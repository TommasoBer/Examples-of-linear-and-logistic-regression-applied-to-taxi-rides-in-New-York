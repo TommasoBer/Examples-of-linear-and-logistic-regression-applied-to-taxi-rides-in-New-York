{
 "cells": [
  {
   "cell_type": "markdown",
   "metadata": {},
   "source": [
    "# Taxi Rides in NYC Analysis\n",
    "## *FDS Final Project*\n",
    "#### *Tommaso Berritto, Laura Monzo, Antonio Rocca & Elisa Valeriani*"
   ]
  },
  {
   "cell_type": "markdown",
   "metadata": {},
   "source": [
    "Let's import the necessary libraries"
   ]
  },
  {
   "cell_type": "code",
   "execution_count": 1,
   "metadata": {},
   "outputs": [],
   "source": [
    "import warnings\n",
    "warnings.filterwarnings('ignore')\n",
    "import seaborn as sns\n",
    "import pandas as pd\n",
    "import numpy as np\n",
    "import matplotlib.pyplot as plt\n",
    "import math\n",
    "from sklearn.model_selection import train_test_split\n",
    "from sklearn.linear_model import LinearRegression\n",
    "from sklearn.linear_model.logistic import LogisticRegression\n",
    "from sklearn.preprocessing import StandardScaler\n",
    "from sklearn import metrics\n",
    "from sklearn.metrics import r2_score\n",
    "from sklearn import preprocessing"
   ]
  },
  {
   "cell_type": "markdown",
   "metadata": {},
   "source": [
    "## Steps\n",
    "\n",
    "Before to apply ML algorithms in to train our models we need to explore the data, understand the relation among features and make changes on them to fit in the best way our models.\n",
    "\n",
    "So we can consider different steps in this project:\n",
    "\n",
    "- Exploratory Data Analysis and Features Engineering\n",
    "- Analysis of features for Linear Regression\n",
    "- Analysis of features for Logistic Regression\n",
    "- Liner Regression Model + results\n",
    "- Logistic Regression Model + results"
   ]
  },
  {
   "cell_type": "markdown",
   "metadata": {},
   "source": [
    "---"
   ]
  },
  {
   "cell_type": "markdown",
   "metadata": {},
   "source": [
    "## Exploratory Data Analysis and Features Engineering"
   ]
  },
  {
   "cell_type": "code",
   "execution_count": null,
   "metadata": {},
   "outputs": [],
   "source": [
    "#first of all, we need to import the data and parse the features that indicate dates into timestamp objects\n",
    "\n",
    "df = pd.read_csv('yellow_tripdata_2020-05.csv', parse_dates = ['tpep_pickup_datetime', 'tpep_dropoff_datetime'])\n",
    "df.head()\n",
    "\n",
    "# fare_amount --> amount indicated by the meter"
   ]
  },
  {
   "cell_type": "code",
   "execution_count": 3,
   "metadata": {},
   "outputs": [
    {
     "data": {
      "text/html": [
       "<div>\n",
       "<style scoped>\n",
       "    .dataframe tbody tr th:only-of-type {\n",
       "        vertical-align: middle;\n",
       "    }\n",
       "\n",
       "    .dataframe tbody tr th {\n",
       "        vertical-align: top;\n",
       "    }\n",
       "\n",
       "    .dataframe thead th {\n",
       "        text-align: right;\n",
       "    }\n",
       "</style>\n",
       "<table border=\"1\" class=\"dataframe\">\n",
       "  <thead>\n",
       "    <tr style=\"text-align: right;\">\n",
       "      <th></th>\n",
       "      <th>tpep_pickup_datetime</th>\n",
       "      <th>tpep_dropoff_datetime</th>\n",
       "      <th>passenger_count</th>\n",
       "      <th>trip_distance</th>\n",
       "      <th>PULocationID</th>\n",
       "      <th>DOLocationID</th>\n",
       "      <th>payment_type</th>\n",
       "      <th>tip_amount</th>\n",
       "      <th>total_amount</th>\n",
       "    </tr>\n",
       "  </thead>\n",
       "  <tbody>\n",
       "    <tr>\n",
       "      <th>0</th>\n",
       "      <td>2020-05-01 00:02:28</td>\n",
       "      <td>2020-05-01 00:18:07</td>\n",
       "      <td>1.0</td>\n",
       "      <td>0.0</td>\n",
       "      <td>234</td>\n",
       "      <td>256</td>\n",
       "      <td>1.0</td>\n",
       "      <td>2.4</td>\n",
       "      <td>18.4</td>\n",
       "    </tr>\n",
       "    <tr>\n",
       "      <th>1</th>\n",
       "      <td>2020-05-01 00:23:21</td>\n",
       "      <td>2020-05-01 00:26:01</td>\n",
       "      <td>2.0</td>\n",
       "      <td>0.4</td>\n",
       "      <td>264</td>\n",
       "      <td>264</td>\n",
       "      <td>1.0</td>\n",
       "      <td>0.5</td>\n",
       "      <td>5.8</td>\n",
       "    </tr>\n",
       "    <tr>\n",
       "      <th>2</th>\n",
       "      <td>2020-05-01 00:54:58</td>\n",
       "      <td>2020-05-01 00:57:11</td>\n",
       "      <td>1.0</td>\n",
       "      <td>0.3</td>\n",
       "      <td>264</td>\n",
       "      <td>264</td>\n",
       "      <td>2.0</td>\n",
       "      <td>0.0</td>\n",
       "      <td>4.8</td>\n",
       "    </tr>\n",
       "    <tr>\n",
       "      <th>3</th>\n",
       "      <td>2020-05-01 00:07:10</td>\n",
       "      <td>2020-05-01 00:12:46</td>\n",
       "      <td>1.0</td>\n",
       "      <td>1.7</td>\n",
       "      <td>107</td>\n",
       "      <td>229</td>\n",
       "      <td>2.0</td>\n",
       "      <td>0.0</td>\n",
       "      <td>10.8</td>\n",
       "    </tr>\n",
       "    <tr>\n",
       "      <th>4</th>\n",
       "      <td>2020-05-01 00:55:47</td>\n",
       "      <td>2020-05-01 01:01:54</td>\n",
       "      <td>0.0</td>\n",
       "      <td>0.9</td>\n",
       "      <td>237</td>\n",
       "      <td>262</td>\n",
       "      <td>1.0</td>\n",
       "      <td>1.2</td>\n",
       "      <td>11.0</td>\n",
       "    </tr>\n",
       "  </tbody>\n",
       "</table>\n",
       "</div>"
      ],
      "text/plain": [
       "  tpep_pickup_datetime tpep_dropoff_datetime  passenger_count  trip_distance  \\\n",
       "0  2020-05-01 00:02:28   2020-05-01 00:18:07              1.0            0.0   \n",
       "1  2020-05-01 00:23:21   2020-05-01 00:26:01              2.0            0.4   \n",
       "2  2020-05-01 00:54:58   2020-05-01 00:57:11              1.0            0.3   \n",
       "3  2020-05-01 00:07:10   2020-05-01 00:12:46              1.0            1.7   \n",
       "4  2020-05-01 00:55:47   2020-05-01 01:01:54              0.0            0.9   \n",
       "\n",
       "   PULocationID  DOLocationID  payment_type  tip_amount  total_amount  \n",
       "0           234           256           1.0         2.4          18.4  \n",
       "1           264           264           1.0         0.5           5.8  \n",
       "2           264           264           2.0         0.0           4.8  \n",
       "3           107           229           2.0         0.0          10.8  \n",
       "4           237           262           1.0         1.2          11.0  "
      ]
     },
     "execution_count": 3,
     "metadata": {},
     "output_type": "execute_result"
    }
   ],
   "source": [
    "#let's pick just the features we are interested in\n",
    "\n",
    "columns = ['tpep_pickup_datetime', 'tpep_dropoff_datetime', 'passenger_count', 'trip_distance', 'PULocationID', 'DOLocationID', 'payment_type', 'tip_amount', 'total_amount']\n",
    "df = df[columns]\n",
    "df.head()\n"
   ]
  },
  {
   "cell_type": "code",
   "execution_count": 4,
   "metadata": {},
   "outputs": [
    {
     "data": {
      "text/plain": [
       "payment_type\n",
       "1.0    174364\n",
       "2.0    109447\n",
       "3.0      3937\n",
       "4.0      1732\n",
       "Name: payment_type, dtype: int64"
      ]
     },
     "execution_count": 4,
     "metadata": {},
     "output_type": "execute_result"
    }
   ],
   "source": [
    "\n",
    "df.groupby(df.payment_type).payment_type.count()\n",
    "\n",
    "# 1 --> credit card\n",
    "# 2 --> cash\n",
    "# 3 --> no charge (nessun addebbito)\n",
    "# 4 --> dispute (controversia, in disaccordo)\n",
    "# 5 --> unkown\n",
    "# 6 --> voided trip\n",
    "\n",
    "#the type of payment 1.0 (credit card) and 2.0 (cash) are the most frequent, therefore we'll consider just those 2\n"
   ]
  },
  {
   "cell_type": "code",
   "execution_count": 5,
   "metadata": {},
   "outputs": [
    {
     "data": {
      "text/plain": [
       "PULocationID\n",
       "1         12\n",
       "2          1\n",
       "3         22\n",
       "4        348\n",
       "5          1\n",
       "       ...  \n",
       "261      504\n",
       "262     5320\n",
       "263    11654\n",
       "264     2672\n",
       "265      272\n",
       "Name: payment_type, Length: 260, dtype: int64"
      ]
     },
     "execution_count": 5,
     "metadata": {},
     "output_type": "execute_result"
    }
   ],
   "source": [
    "df.groupby(df.PULocationID).payment_type.count()\n",
    "\n",
    "#the (pick up or drop off) location ID can be different for the same borough (Manhattan, Brookyin, Bronx etc.) \n"
   ]
  },
  {
   "cell_type": "code",
   "execution_count": 6,
   "metadata": {},
   "outputs": [
    {
     "data": {
      "text/plain": [
       "payment_type\n",
       "1.0    168878\n",
       "2.0    105960\n",
       "Name: payment_type, dtype: int64"
      ]
     },
     "execution_count": 6,
     "metadata": {},
     "output_type": "execute_result"
    }
   ],
   "source": [
    "#let's pick just the records for which the payment is payment type is credit card or cash and the passenger is at least one\n",
    "\n",
    "df = df[((df.payment_type == 1.0) | (df.payment_type == 2.0)) & (df.passenger_count != 0.0)]\n",
    "df.groupby(df.passenger_count).passenger_count.count()\n",
    "\n",
    "#check\n",
    "df.groupby(df.payment_type).payment_type.count()\n"
   ]
  },
  {
   "cell_type": "code",
   "execution_count": 7,
   "metadata": {},
   "outputs": [],
   "source": [
    "#taxi+_zone_lookup.csv contains information about the pick up and drop off locations IDs; given that we'd like to focus on the \n",
    "#boroughs of Manhattan and Brooklyn, we create 2 lists containing list_man and list_bro containing respectively the IDs\n",
    "#corresponding to the boroughs of Manhattan and Brooklyn \n",
    "\n",
    "zone = pd.read_csv('taxi+_zone_lookup.csv')\n",
    "\n",
    "MAN = zone[(zone.Borough == 'Manhattan' )]\n",
    "BRO = zone[(zone.Borough == 'Brooklyn' )]\n",
    "\n",
    "list_man = MAN['LocationID'].tolist()\n",
    "list_bro = BRO['LocationID'].tolist()"
   ]
  },
  {
   "cell_type": "code",
   "execution_count": 8,
   "metadata": {},
   "outputs": [
    {
     "data": {
      "text/plain": [
       "True"
      ]
     },
     "execution_count": 8,
     "metadata": {},
     "output_type": "execute_result"
    }
   ],
   "source": [
    "#we then convert the values of the PULocationID feature in 1 if the ID corresponds to one of Manhattan's IDs, in 0 if the ID\n",
    "#corresponds to one of Brooklyn's IDs and in 2 otherwise\n",
    "\n",
    "list_PULocationID = df['PULocationID'].tolist()\n",
    "\n",
    "array = np.array([])\n",
    "\n",
    "for element in list_PULocationID:\n",
    "\n",
    "    if element in list_man:\n",
    "        \n",
    "        #Manhattan = 1\n",
    "        array = np.append(array, 1)\n",
    "    \n",
    "    elif element in list_bro:\n",
    "        \n",
    "        #Brooklyn = 0\n",
    "        array = np.append(array, 0)\n",
    "        \n",
    "    else:\n",
    "        \n",
    "        array = np.append(array, 2)\n",
    "        \n",
    "#check\n",
    "len(array) == df.shape[0]"
   ]
  },
  {
   "cell_type": "code",
   "execution_count": 9,
   "metadata": {},
   "outputs": [
    {
     "data": {
      "text/html": [
       "<div>\n",
       "<style scoped>\n",
       "    .dataframe tbody tr th:only-of-type {\n",
       "        vertical-align: middle;\n",
       "    }\n",
       "\n",
       "    .dataframe tbody tr th {\n",
       "        vertical-align: top;\n",
       "    }\n",
       "\n",
       "    .dataframe thead th {\n",
       "        text-align: right;\n",
       "    }\n",
       "</style>\n",
       "<table border=\"1\" class=\"dataframe\">\n",
       "  <thead>\n",
       "    <tr style=\"text-align: right;\">\n",
       "      <th></th>\n",
       "      <th>tpep_pickup_datetime</th>\n",
       "      <th>tpep_dropoff_datetime</th>\n",
       "      <th>passenger_count</th>\n",
       "      <th>trip_distance</th>\n",
       "      <th>PULocationID</th>\n",
       "      <th>DOLocationID</th>\n",
       "      <th>payment_type</th>\n",
       "      <th>tip_amount</th>\n",
       "      <th>total_amount</th>\n",
       "    </tr>\n",
       "  </thead>\n",
       "  <tbody>\n",
       "    <tr>\n",
       "      <th>0</th>\n",
       "      <td>2020-05-01 00:02:28</td>\n",
       "      <td>2020-05-01 00:18:07</td>\n",
       "      <td>1.0</td>\n",
       "      <td>0.0</td>\n",
       "      <td>1.0</td>\n",
       "      <td>256</td>\n",
       "      <td>1.0</td>\n",
       "      <td>2.4</td>\n",
       "      <td>18.4</td>\n",
       "    </tr>\n",
       "    <tr>\n",
       "      <th>1</th>\n",
       "      <td>2020-05-01 00:23:21</td>\n",
       "      <td>2020-05-01 00:26:01</td>\n",
       "      <td>2.0</td>\n",
       "      <td>0.4</td>\n",
       "      <td>2.0</td>\n",
       "      <td>264</td>\n",
       "      <td>1.0</td>\n",
       "      <td>0.5</td>\n",
       "      <td>5.8</td>\n",
       "    </tr>\n",
       "    <tr>\n",
       "      <th>2</th>\n",
       "      <td>2020-05-01 00:54:58</td>\n",
       "      <td>2020-05-01 00:57:11</td>\n",
       "      <td>1.0</td>\n",
       "      <td>0.3</td>\n",
       "      <td>2.0</td>\n",
       "      <td>264</td>\n",
       "      <td>2.0</td>\n",
       "      <td>0.0</td>\n",
       "      <td>4.8</td>\n",
       "    </tr>\n",
       "    <tr>\n",
       "      <th>3</th>\n",
       "      <td>2020-05-01 00:07:10</td>\n",
       "      <td>2020-05-01 00:12:46</td>\n",
       "      <td>1.0</td>\n",
       "      <td>1.7</td>\n",
       "      <td>1.0</td>\n",
       "      <td>229</td>\n",
       "      <td>2.0</td>\n",
       "      <td>0.0</td>\n",
       "      <td>10.8</td>\n",
       "    </tr>\n",
       "    <tr>\n",
       "      <th>6</th>\n",
       "      <td>2020-05-01 00:09:46</td>\n",
       "      <td>2020-05-01 00:27:44</td>\n",
       "      <td>1.0</td>\n",
       "      <td>2.9</td>\n",
       "      <td>1.0</td>\n",
       "      <td>237</td>\n",
       "      <td>2.0</td>\n",
       "      <td>0.0</td>\n",
       "      <td>15.8</td>\n",
       "    </tr>\n",
       "  </tbody>\n",
       "</table>\n",
       "</div>"
      ],
      "text/plain": [
       "  tpep_pickup_datetime tpep_dropoff_datetime  passenger_count  trip_distance  \\\n",
       "0  2020-05-01 00:02:28   2020-05-01 00:18:07              1.0            0.0   \n",
       "1  2020-05-01 00:23:21   2020-05-01 00:26:01              2.0            0.4   \n",
       "2  2020-05-01 00:54:58   2020-05-01 00:57:11              1.0            0.3   \n",
       "3  2020-05-01 00:07:10   2020-05-01 00:12:46              1.0            1.7   \n",
       "6  2020-05-01 00:09:46   2020-05-01 00:27:44              1.0            2.9   \n",
       "\n",
       "   PULocationID  DOLocationID  payment_type  tip_amount  total_amount  \n",
       "0           1.0           256           1.0         2.4          18.4  \n",
       "1           2.0           264           1.0         0.5           5.8  \n",
       "2           2.0           264           2.0         0.0           4.8  \n",
       "3           1.0           229           2.0         0.0          10.8  \n",
       "6           1.0           237           2.0         0.0          15.8  "
      ]
     },
     "execution_count": 9,
     "metadata": {},
     "output_type": "execute_result"
    }
   ],
   "source": [
    "df.PULocationID = array\n",
    "df.head()"
   ]
  },
  {
   "cell_type": "code",
   "execution_count": 10,
   "metadata": {},
   "outputs": [
    {
     "data": {
      "text/plain": [
       "True"
      ]
     },
     "execution_count": 10,
     "metadata": {},
     "output_type": "execute_result"
    }
   ],
   "source": [
    "#same for the DOLocationID feature\n",
    "\n",
    "list_DOLocationID = df['DOLocationID'].tolist()\n",
    "\n",
    "array1 = np.array([])\n",
    "\n",
    "for element in list_DOLocationID:\n",
    "\n",
    "    if element in list_man:\n",
    "        \n",
    "        #Manhattan = 1\n",
    "        array1 = np.append(array1, 1)\n",
    "    \n",
    "    elif element in list_bro:\n",
    "        \n",
    "        #Brooklyn = 0\n",
    "        array1 = np.append(array1, 0)\n",
    "        \n",
    "    else:\n",
    "        \n",
    "        array1 = np.append(array1, 2)\n",
    "        \n",
    "#check\n",
    "len(array1) == df.shape[0]"
   ]
  },
  {
   "cell_type": "code",
   "execution_count": 11,
   "metadata": {},
   "outputs": [
    {
     "data": {
      "text/html": [
       "<div>\n",
       "<style scoped>\n",
       "    .dataframe tbody tr th:only-of-type {\n",
       "        vertical-align: middle;\n",
       "    }\n",
       "\n",
       "    .dataframe tbody tr th {\n",
       "        vertical-align: top;\n",
       "    }\n",
       "\n",
       "    .dataframe thead th {\n",
       "        text-align: right;\n",
       "    }\n",
       "</style>\n",
       "<table border=\"1\" class=\"dataframe\">\n",
       "  <thead>\n",
       "    <tr style=\"text-align: right;\">\n",
       "      <th></th>\n",
       "      <th>tpep_pickup_datetime</th>\n",
       "      <th>tpep_dropoff_datetime</th>\n",
       "      <th>passenger_count</th>\n",
       "      <th>trip_distance</th>\n",
       "      <th>PULocationID</th>\n",
       "      <th>DOLocationID</th>\n",
       "      <th>payment_type</th>\n",
       "      <th>tip_amount</th>\n",
       "      <th>total_amount</th>\n",
       "    </tr>\n",
       "  </thead>\n",
       "  <tbody>\n",
       "    <tr>\n",
       "      <th>0</th>\n",
       "      <td>2020-05-01 00:02:28</td>\n",
       "      <td>2020-05-01 00:18:07</td>\n",
       "      <td>1.0</td>\n",
       "      <td>0.0</td>\n",
       "      <td>1.0</td>\n",
       "      <td>0.0</td>\n",
       "      <td>1.0</td>\n",
       "      <td>2.4</td>\n",
       "      <td>18.4</td>\n",
       "    </tr>\n",
       "    <tr>\n",
       "      <th>1</th>\n",
       "      <td>2020-05-01 00:23:21</td>\n",
       "      <td>2020-05-01 00:26:01</td>\n",
       "      <td>2.0</td>\n",
       "      <td>0.4</td>\n",
       "      <td>2.0</td>\n",
       "      <td>2.0</td>\n",
       "      <td>1.0</td>\n",
       "      <td>0.5</td>\n",
       "      <td>5.8</td>\n",
       "    </tr>\n",
       "    <tr>\n",
       "      <th>2</th>\n",
       "      <td>2020-05-01 00:54:58</td>\n",
       "      <td>2020-05-01 00:57:11</td>\n",
       "      <td>1.0</td>\n",
       "      <td>0.3</td>\n",
       "      <td>2.0</td>\n",
       "      <td>2.0</td>\n",
       "      <td>2.0</td>\n",
       "      <td>0.0</td>\n",
       "      <td>4.8</td>\n",
       "    </tr>\n",
       "    <tr>\n",
       "      <th>3</th>\n",
       "      <td>2020-05-01 00:07:10</td>\n",
       "      <td>2020-05-01 00:12:46</td>\n",
       "      <td>1.0</td>\n",
       "      <td>1.7</td>\n",
       "      <td>1.0</td>\n",
       "      <td>1.0</td>\n",
       "      <td>2.0</td>\n",
       "      <td>0.0</td>\n",
       "      <td>10.8</td>\n",
       "    </tr>\n",
       "    <tr>\n",
       "      <th>6</th>\n",
       "      <td>2020-05-01 00:09:46</td>\n",
       "      <td>2020-05-01 00:27:44</td>\n",
       "      <td>1.0</td>\n",
       "      <td>2.9</td>\n",
       "      <td>1.0</td>\n",
       "      <td>1.0</td>\n",
       "      <td>2.0</td>\n",
       "      <td>0.0</td>\n",
       "      <td>15.8</td>\n",
       "    </tr>\n",
       "  </tbody>\n",
       "</table>\n",
       "</div>"
      ],
      "text/plain": [
       "  tpep_pickup_datetime tpep_dropoff_datetime  passenger_count  trip_distance  \\\n",
       "0  2020-05-01 00:02:28   2020-05-01 00:18:07              1.0            0.0   \n",
       "1  2020-05-01 00:23:21   2020-05-01 00:26:01              2.0            0.4   \n",
       "2  2020-05-01 00:54:58   2020-05-01 00:57:11              1.0            0.3   \n",
       "3  2020-05-01 00:07:10   2020-05-01 00:12:46              1.0            1.7   \n",
       "6  2020-05-01 00:09:46   2020-05-01 00:27:44              1.0            2.9   \n",
       "\n",
       "   PULocationID  DOLocationID  payment_type  tip_amount  total_amount  \n",
       "0           1.0           0.0           1.0         2.4          18.4  \n",
       "1           2.0           2.0           1.0         0.5           5.8  \n",
       "2           2.0           2.0           2.0         0.0           4.8  \n",
       "3           1.0           1.0           2.0         0.0          10.8  \n",
       "6           1.0           1.0           2.0         0.0          15.8  "
      ]
     },
     "execution_count": 11,
     "metadata": {},
     "output_type": "execute_result"
    }
   ],
   "source": [
    "df.DOLocationID = array1\n",
    "df.head()"
   ]
  },
  {
   "cell_type": "code",
   "execution_count": 12,
   "metadata": {},
   "outputs": [
    {
     "data": {
      "text/plain": [
       "258152"
      ]
     },
     "execution_count": 12,
     "metadata": {},
     "output_type": "execute_result"
    }
   ],
   "source": [
    "#pick just the records for which the PULocationID is 0 (Brooklyn) or 1 (Manhattan) \n",
    "\n",
    "df = df[(df.PULocationID == 0.0) | (df.PULocationID == 1.0)]\n",
    "len(df)"
   ]
  },
  {
   "cell_type": "code",
   "execution_count": 13,
   "metadata": {},
   "outputs": [
    {
     "data": {
      "text/html": [
       "<div>\n",
       "<style scoped>\n",
       "    .dataframe tbody tr th:only-of-type {\n",
       "        vertical-align: middle;\n",
       "    }\n",
       "\n",
       "    .dataframe tbody tr th {\n",
       "        vertical-align: top;\n",
       "    }\n",
       "\n",
       "    .dataframe thead th {\n",
       "        text-align: right;\n",
       "    }\n",
       "</style>\n",
       "<table border=\"1\" class=\"dataframe\">\n",
       "  <thead>\n",
       "    <tr style=\"text-align: right;\">\n",
       "      <th></th>\n",
       "      <th>tpep_pickup_datetime</th>\n",
       "      <th>tpep_dropoff_datetime</th>\n",
       "      <th>passenger_count</th>\n",
       "      <th>trip_distance</th>\n",
       "      <th>PULocationID</th>\n",
       "      <th>DOLocationID</th>\n",
       "      <th>payment_type</th>\n",
       "      <th>tip_amount</th>\n",
       "      <th>total_amount</th>\n",
       "    </tr>\n",
       "  </thead>\n",
       "  <tbody>\n",
       "    <tr>\n",
       "      <th>0</th>\n",
       "      <td>2020-05-01 00:02:28</td>\n",
       "      <td>2020-05-01 00:18:07</td>\n",
       "      <td>1.0</td>\n",
       "      <td>0.0</td>\n",
       "      <td>1.0</td>\n",
       "      <td>0.0</td>\n",
       "      <td>1.0</td>\n",
       "      <td>2.40</td>\n",
       "      <td>18.40</td>\n",
       "    </tr>\n",
       "    <tr>\n",
       "      <th>1</th>\n",
       "      <td>2020-05-01 00:07:10</td>\n",
       "      <td>2020-05-01 00:12:46</td>\n",
       "      <td>1.0</td>\n",
       "      <td>1.7</td>\n",
       "      <td>1.0</td>\n",
       "      <td>1.0</td>\n",
       "      <td>2.0</td>\n",
       "      <td>0.00</td>\n",
       "      <td>10.80</td>\n",
       "    </tr>\n",
       "    <tr>\n",
       "      <th>2</th>\n",
       "      <td>2020-05-01 00:09:46</td>\n",
       "      <td>2020-05-01 00:27:44</td>\n",
       "      <td>1.0</td>\n",
       "      <td>2.9</td>\n",
       "      <td>1.0</td>\n",
       "      <td>1.0</td>\n",
       "      <td>2.0</td>\n",
       "      <td>0.00</td>\n",
       "      <td>15.80</td>\n",
       "    </tr>\n",
       "    <tr>\n",
       "      <th>3</th>\n",
       "      <td>2020-05-01 00:22:48</td>\n",
       "      <td>2020-05-01 00:28:58</td>\n",
       "      <td>1.0</td>\n",
       "      <td>1.5</td>\n",
       "      <td>1.0</td>\n",
       "      <td>1.0</td>\n",
       "      <td>1.0</td>\n",
       "      <td>2.15</td>\n",
       "      <td>12.95</td>\n",
       "    </tr>\n",
       "    <tr>\n",
       "      <th>4</th>\n",
       "      <td>2020-05-01 00:57:59</td>\n",
       "      <td>2020-05-01 01:07:48</td>\n",
       "      <td>1.0</td>\n",
       "      <td>2.0</td>\n",
       "      <td>1.0</td>\n",
       "      <td>1.0</td>\n",
       "      <td>2.0</td>\n",
       "      <td>0.00</td>\n",
       "      <td>12.80</td>\n",
       "    </tr>\n",
       "  </tbody>\n",
       "</table>\n",
       "</div>"
      ],
      "text/plain": [
       "  tpep_pickup_datetime tpep_dropoff_datetime  passenger_count  trip_distance  \\\n",
       "0  2020-05-01 00:02:28   2020-05-01 00:18:07              1.0            0.0   \n",
       "1  2020-05-01 00:07:10   2020-05-01 00:12:46              1.0            1.7   \n",
       "2  2020-05-01 00:09:46   2020-05-01 00:27:44              1.0            2.9   \n",
       "3  2020-05-01 00:22:48   2020-05-01 00:28:58              1.0            1.5   \n",
       "4  2020-05-01 00:57:59   2020-05-01 01:07:48              1.0            2.0   \n",
       "\n",
       "   PULocationID  DOLocationID  payment_type  tip_amount  total_amount  \n",
       "0           1.0           0.0           1.0        2.40         18.40  \n",
       "1           1.0           1.0           2.0        0.00         10.80  \n",
       "2           1.0           1.0           2.0        0.00         15.80  \n",
       "3           1.0           1.0           1.0        2.15         12.95  \n",
       "4           1.0           1.0           2.0        0.00         12.80  "
      ]
     },
     "execution_count": 13,
     "metadata": {},
     "output_type": "execute_result"
    }
   ],
   "source": [
    "df = df.reset_index()\n",
    "df = df.drop(['index'], axis=1)\n",
    "df.head()"
   ]
  },
  {
   "cell_type": "code",
   "execution_count": 14,
   "metadata": {},
   "outputs": [
    {
     "data": {
      "text/html": [
       "<div>\n",
       "<style scoped>\n",
       "    .dataframe tbody tr th:only-of-type {\n",
       "        vertical-align: middle;\n",
       "    }\n",
       "\n",
       "    .dataframe tbody tr th {\n",
       "        vertical-align: top;\n",
       "    }\n",
       "\n",
       "    .dataframe thead th {\n",
       "        text-align: right;\n",
       "    }\n",
       "</style>\n",
       "<table border=\"1\" class=\"dataframe\">\n",
       "  <thead>\n",
       "    <tr style=\"text-align: right;\">\n",
       "      <th></th>\n",
       "      <th>tpep_pickup_datetime</th>\n",
       "      <th>tpep_dropoff_datetime</th>\n",
       "      <th>passenger_count</th>\n",
       "      <th>trip_distance</th>\n",
       "      <th>PULocationID</th>\n",
       "      <th>DOLocationID</th>\n",
       "      <th>payment_type</th>\n",
       "      <th>tip_amount</th>\n",
       "      <th>total_amount</th>\n",
       "      <th>time_distance</th>\n",
       "    </tr>\n",
       "  </thead>\n",
       "  <tbody>\n",
       "    <tr>\n",
       "      <th>0</th>\n",
       "      <td>2020-05-01 00:02:28</td>\n",
       "      <td>2020-05-01 00:18:07</td>\n",
       "      <td>1.0</td>\n",
       "      <td>0.0</td>\n",
       "      <td>1.0</td>\n",
       "      <td>0.0</td>\n",
       "      <td>1.0</td>\n",
       "      <td>2.40</td>\n",
       "      <td>18.40</td>\n",
       "      <td>0 days 00:15:39</td>\n",
       "    </tr>\n",
       "    <tr>\n",
       "      <th>1</th>\n",
       "      <td>2020-05-01 00:07:10</td>\n",
       "      <td>2020-05-01 00:12:46</td>\n",
       "      <td>1.0</td>\n",
       "      <td>1.7</td>\n",
       "      <td>1.0</td>\n",
       "      <td>1.0</td>\n",
       "      <td>2.0</td>\n",
       "      <td>0.00</td>\n",
       "      <td>10.80</td>\n",
       "      <td>0 days 00:05:36</td>\n",
       "    </tr>\n",
       "    <tr>\n",
       "      <th>2</th>\n",
       "      <td>2020-05-01 00:09:46</td>\n",
       "      <td>2020-05-01 00:27:44</td>\n",
       "      <td>1.0</td>\n",
       "      <td>2.9</td>\n",
       "      <td>1.0</td>\n",
       "      <td>1.0</td>\n",
       "      <td>2.0</td>\n",
       "      <td>0.00</td>\n",
       "      <td>15.80</td>\n",
       "      <td>0 days 00:17:58</td>\n",
       "    </tr>\n",
       "    <tr>\n",
       "      <th>3</th>\n",
       "      <td>2020-05-01 00:22:48</td>\n",
       "      <td>2020-05-01 00:28:58</td>\n",
       "      <td>1.0</td>\n",
       "      <td>1.5</td>\n",
       "      <td>1.0</td>\n",
       "      <td>1.0</td>\n",
       "      <td>1.0</td>\n",
       "      <td>2.15</td>\n",
       "      <td>12.95</td>\n",
       "      <td>0 days 00:06:10</td>\n",
       "    </tr>\n",
       "    <tr>\n",
       "      <th>4</th>\n",
       "      <td>2020-05-01 00:57:59</td>\n",
       "      <td>2020-05-01 01:07:48</td>\n",
       "      <td>1.0</td>\n",
       "      <td>2.0</td>\n",
       "      <td>1.0</td>\n",
       "      <td>1.0</td>\n",
       "      <td>2.0</td>\n",
       "      <td>0.00</td>\n",
       "      <td>12.80</td>\n",
       "      <td>0 days 00:09:49</td>\n",
       "    </tr>\n",
       "  </tbody>\n",
       "</table>\n",
       "</div>"
      ],
      "text/plain": [
       "  tpep_pickup_datetime tpep_dropoff_datetime  passenger_count  trip_distance  \\\n",
       "0  2020-05-01 00:02:28   2020-05-01 00:18:07              1.0            0.0   \n",
       "1  2020-05-01 00:07:10   2020-05-01 00:12:46              1.0            1.7   \n",
       "2  2020-05-01 00:09:46   2020-05-01 00:27:44              1.0            2.9   \n",
       "3  2020-05-01 00:22:48   2020-05-01 00:28:58              1.0            1.5   \n",
       "4  2020-05-01 00:57:59   2020-05-01 01:07:48              1.0            2.0   \n",
       "\n",
       "   PULocationID  DOLocationID  payment_type  tip_amount  total_amount  \\\n",
       "0           1.0           0.0           1.0        2.40         18.40   \n",
       "1           1.0           1.0           2.0        0.00         10.80   \n",
       "2           1.0           1.0           2.0        0.00         15.80   \n",
       "3           1.0           1.0           1.0        2.15         12.95   \n",
       "4           1.0           1.0           2.0        0.00         12.80   \n",
       "\n",
       "    time_distance  \n",
       "0 0 days 00:15:39  \n",
       "1 0 days 00:05:36  \n",
       "2 0 days 00:17:58  \n",
       "3 0 days 00:06:10  \n",
       "4 0 days 00:09:49  "
      ]
     },
     "execution_count": 14,
     "metadata": {},
     "output_type": "execute_result"
    }
   ],
   "source": [
    "#add a new feature 'time_distance' given by the difference between the time the passenger was picked up and dropped off\n",
    "\n",
    "df['time_distance'] = df.tpep_dropoff_datetime - df.tpep_pickup_datetime\n",
    "\n",
    "#check\n",
    "df.head()"
   ]
  },
  {
   "cell_type": "code",
   "execution_count": 15,
   "metadata": {},
   "outputs": [
    {
     "data": {
      "text/plain": [
       "pandas._libs.tslibs.timedeltas.Timedelta"
      ]
     },
     "execution_count": 15,
     "metadata": {},
     "output_type": "execute_result"
    }
   ],
   "source": [
    "type(df.time_distance[0])"
   ]
  },
  {
   "cell_type": "code",
   "execution_count": 16,
   "metadata": {},
   "outputs": [],
   "source": [
    "for i in range(len(df)):\n",
    "    \n",
    "    df.time_distance[i] = df.time_distance[i].seconds"
   ]
  },
  {
   "cell_type": "markdown",
   "metadata": {},
   "source": [
    "-----------------------------------------------------------"
   ]
  },
  {
   "cell_type": "markdown",
   "metadata": {},
   "source": [
    "## Analysis of features for Linear Regression\n",
    "\n",
    "The **goal** of our linear regression model is to predict the *tip_amount* that the taxy rider will receive, based on the characteristics of his ride. To this end, we analyze the different features one by one comparing them with *tip_amount* (target variable), discovering correlations and general relationships"
   ]
  },
  {
   "cell_type": "markdown",
   "metadata": {},
   "source": [
    "#### Total amount & Trip distance vs Tip amount"
   ]
  },
  {
   "cell_type": "code",
   "execution_count": 17,
   "metadata": {},
   "outputs": [
    {
     "data": {
      "image/png": "[encoded data removed]",
      "text/plain": [
       "<Figure size 432x288 with 2 Axes>"
      ]
     },
     "metadata": {
      "needs_background": "light"
     },
     "output_type": "display_data"
    }
   ],
   "source": [
    "#compare the trend of the total amount paid by the passenger and the distance of the trip (in miles) both wrt the amount of the \n",
    "#tip\n",
    "\n",
    "plt.figure()\n",
    "\n",
    "plt.subplot(211)\n",
    "plt.scatter(df.total_amount[0:10000], df.tip_amount[0:10000], color = (0.5,0.1,0.5,0.6))\n",
    "plt.title('Total Amount vs Tip')\n",
    "plt.xlabel('total amount')\n",
    "plt.ylabel('tip')\n",
    "\n",
    "plt.subplot(212)\n",
    "plt.scatter(df.trip_distance[0:100], df.tip_amount[0:100], color = (0.5,0.1,0.5,0.6))\n",
    "plt.title('Distance of the Trip vs Tip')\n",
    "plt.xlabel('distance of the trip')\n",
    "plt.ylabel('tip')\n",
    "plt.tight_layout()\n",
    "\n",
    "plt.show()"
   ]
  },
  {
   "cell_type": "code",
   "execution_count": 18,
   "metadata": {},
   "outputs": [
    {
     "name": "stdout",
     "output_type": "stream",
     "text": [
      "The correlation between the total amount and the amount of the tip is 0.48\n",
      "The correlation between the distance of the trip and the amount of the tip is 0.3\n"
     ]
    }
   ],
   "source": [
    "#we can see a positive trend, that can be confirmed also via the calculation of the correlation coefficient\n",
    "\n",
    "print('The correlation between the total amount and the amount of the tip is '+ str(round(np.corrcoef(df['total_amount'], \\\n",
    "       df['tip_amount'])[0][1], 2)))\n",
    "print('The correlation between the distance of the trip and the amount of the tip is '+ str(round(np.corrcoef(df['trip_distance'], \\\n",
    "       df['tip_amount'])[0][1], 2)))\n"
   ]
  },
  {
   "cell_type": "code",
   "execution_count": 19,
   "metadata": {},
   "outputs": [
    {
     "data": {
      "image/png": "[encoded data removed]",
      "text/plain": [
       "<Figure size 432x288 with 1 Axes>"
      ]
     },
     "metadata": {
      "needs_background": "light"
     },
     "output_type": "display_data"
    }
   ],
   "source": [
    "#in order to compare the number of passengers always wrt the amount of the tip, we chose to produce another type of plot, from \n",
    "#which we can see that the tip tends to increase if there are more passengers in the taxi, even though there is a slight\n",
    "#descreasing when the number of passengers is 4\n",
    "\n",
    "plt.figure()\n",
    "\n",
    "df.groupby(df.passenger_count).tip_amount.mean().plot(title = 'Number of passengers vs Average Tip',\n",
    "                                                                xlabel = 'number or passengers',\n",
    "                                                                ylabel = 'average amount of the tip',\n",
    "                                                                color = (0.5,0.1,0.5,0.6))\n",
    "\n",
    "plt.show()"
   ]
  },
  {
   "cell_type": "markdown",
   "metadata": {},
   "source": [
    "----"
   ]
  },
  {
   "cell_type": "markdown",
   "metadata": {},
   "source": [
    "#### Speed vs Tip Amount"
   ]
  },
  {
   "cell_type": "code",
   "execution_count": 21,
   "metadata": {},
   "outputs": [],
   "source": [
    "#drop time_distance==0\n",
    "\n",
    "df = df[df.time_distance != 0]"
   ]
  },
  {
   "cell_type": "code",
   "execution_count": null,
   "metadata": {},
   "outputs": [],
   "source": [
    "df1 = df1[df1.trip_distance ]"
   ]
  },
  {
   "cell_type": "code",
   "execution_count": 22,
   "metadata": {},
   "outputs": [
    {
     "data": {
      "text/html": [
       "<div>\n",
       "<style scoped>\n",
       "    .dataframe tbody tr th:only-of-type {\n",
       "        vertical-align: middle;\n",
       "    }\n",
       "\n",
       "    .dataframe tbody tr th {\n",
       "        vertical-align: top;\n",
       "    }\n",
       "\n",
       "    .dataframe thead th {\n",
       "        text-align: right;\n",
       "    }\n",
       "</style>\n",
       "<table border=\"1\" class=\"dataframe\">\n",
       "  <thead>\n",
       "    <tr style=\"text-align: right;\">\n",
       "      <th></th>\n",
       "      <th>tpep_pickup_datetime</th>\n",
       "      <th>tpep_dropoff_datetime</th>\n",
       "      <th>passenger_count</th>\n",
       "      <th>trip_distance</th>\n",
       "      <th>PULocationID</th>\n",
       "      <th>DOLocationID</th>\n",
       "      <th>payment_type</th>\n",
       "      <th>tip_amount</th>\n",
       "      <th>total_amount</th>\n",
       "      <th>time_distance</th>\n",
       "      <th>speed</th>\n",
       "    </tr>\n",
       "  </thead>\n",
       "  <tbody>\n",
       "    <tr>\n",
       "      <th>0</th>\n",
       "      <td>2020-05-01 00:02:28</td>\n",
       "      <td>2020-05-01 00:18:07</td>\n",
       "      <td>1.0</td>\n",
       "      <td>0.0</td>\n",
       "      <td>1.0</td>\n",
       "      <td>0.0</td>\n",
       "      <td>1.0</td>\n",
       "      <td>2.40</td>\n",
       "      <td>18.40</td>\n",
       "      <td>939</td>\n",
       "      <td>0</td>\n",
       "    </tr>\n",
       "    <tr>\n",
       "      <th>1</th>\n",
       "      <td>2020-05-01 00:07:10</td>\n",
       "      <td>2020-05-01 00:12:46</td>\n",
       "      <td>1.0</td>\n",
       "      <td>1.7</td>\n",
       "      <td>1.0</td>\n",
       "      <td>1.0</td>\n",
       "      <td>2.0</td>\n",
       "      <td>0.00</td>\n",
       "      <td>10.80</td>\n",
       "      <td>336</td>\n",
       "      <td>18.2143</td>\n",
       "    </tr>\n",
       "    <tr>\n",
       "      <th>2</th>\n",
       "      <td>2020-05-01 00:09:46</td>\n",
       "      <td>2020-05-01 00:27:44</td>\n",
       "      <td>1.0</td>\n",
       "      <td>2.9</td>\n",
       "      <td>1.0</td>\n",
       "      <td>1.0</td>\n",
       "      <td>2.0</td>\n",
       "      <td>0.00</td>\n",
       "      <td>15.80</td>\n",
       "      <td>1078</td>\n",
       "      <td>9.6846</td>\n",
       "    </tr>\n",
       "    <tr>\n",
       "      <th>3</th>\n",
       "      <td>2020-05-01 00:22:48</td>\n",
       "      <td>2020-05-01 00:28:58</td>\n",
       "      <td>1.0</td>\n",
       "      <td>1.5</td>\n",
       "      <td>1.0</td>\n",
       "      <td>1.0</td>\n",
       "      <td>1.0</td>\n",
       "      <td>2.15</td>\n",
       "      <td>12.95</td>\n",
       "      <td>370</td>\n",
       "      <td>14.5946</td>\n",
       "    </tr>\n",
       "    <tr>\n",
       "      <th>4</th>\n",
       "      <td>2020-05-01 00:57:59</td>\n",
       "      <td>2020-05-01 01:07:48</td>\n",
       "      <td>1.0</td>\n",
       "      <td>2.0</td>\n",
       "      <td>1.0</td>\n",
       "      <td>1.0</td>\n",
       "      <td>2.0</td>\n",
       "      <td>0.00</td>\n",
       "      <td>12.80</td>\n",
       "      <td>589</td>\n",
       "      <td>12.2241</td>\n",
       "    </tr>\n",
       "  </tbody>\n",
       "</table>\n",
       "</div>"
      ],
      "text/plain": [
       "  tpep_pickup_datetime tpep_dropoff_datetime  passenger_count  trip_distance  \\\n",
       "0  2020-05-01 00:02:28   2020-05-01 00:18:07              1.0            0.0   \n",
       "1  2020-05-01 00:07:10   2020-05-01 00:12:46              1.0            1.7   \n",
       "2  2020-05-01 00:09:46   2020-05-01 00:27:44              1.0            2.9   \n",
       "3  2020-05-01 00:22:48   2020-05-01 00:28:58              1.0            1.5   \n",
       "4  2020-05-01 00:57:59   2020-05-01 01:07:48              1.0            2.0   \n",
       "\n",
       "   PULocationID  DOLocationID  payment_type  tip_amount  total_amount  \\\n",
       "0           1.0           0.0           1.0        2.40         18.40   \n",
       "1           1.0           1.0           2.0        0.00         10.80   \n",
       "2           1.0           1.0           2.0        0.00         15.80   \n",
       "3           1.0           1.0           1.0        2.15         12.95   \n",
       "4           1.0           1.0           2.0        0.00         12.80   \n",
       "\n",
       "  time_distance    speed  \n",
       "0           939        0  \n",
       "1           336  18.2143  \n",
       "2          1078   9.6846  \n",
       "3           370  14.5946  \n",
       "4           589  12.2241  "
      ]
     },
     "execution_count": 22,
     "metadata": {},
     "output_type": "execute_result"
    }
   ],
   "source": [
    "#calculate the speed in miles per hour ->  1 mile/s = 3600 miles/hour\n",
    "\n",
    "df['speed'] = ((df.trip_distance) / (df.time_distance))*3600\n",
    "\n",
    "#check\n",
    "df.head()"
   ]
  },
  {
   "cell_type": "code",
   "execution_count": 23,
   "metadata": {},
   "outputs": [
    {
     "data": {
      "image/png": "[encoded data removed]",
      "text/plain": [
       "<Figure size 432x288 with 1 Axes>"
      ]
     },
     "metadata": {
      "needs_background": "light"
     },
     "output_type": "display_data"
    }
   ],
   "source": [
    "#compare the trend of the speed of the trip wrt the amount of the tip\n",
    "\n",
    "plt.figure()\n",
    "plt.scatter(df.speed[0:100], df.tip_amount[0:100], color = (0.5,0.1,0.5,0.6))\n",
    "plt.title('Speed of the Trip vs Tip')\n",
    "plt.xlabel('speed of the trip')\n",
    "plt.ylabel('tip')\n",
    "plt.tight_layout()\n",
    "plt.show()\n"
   ]
  },
  {
   "cell_type": "code",
   "execution_count": 24,
   "metadata": {},
   "outputs": [],
   "source": [
    "df[\"speed\"] = pd.to_numeric(df[\"speed\"])"
   ]
  },
  {
   "cell_type": "code",
   "execution_count": null,
   "metadata": {},
   "outputs": [],
   "source": [
    "\n",
    "print('The correlation between the speed and the amount of the tip is '+ str(round(np.corrcoef(df['speed'], \\\n",
    "df['tip_amount'])[0][1], 2)))\n"
   ]
  },
  {
   "cell_type": "markdown",
   "metadata": {},
   "source": [
    "The correlation between the speed and the amount of the tip is 0.01"
   ]
  },
  {
   "cell_type": "markdown",
   "metadata": {},
   "source": [
    "----"
   ]
  },
  {
   "cell_type": "markdown",
   "metadata": {},
   "source": [
    "#### Time slot vs Tip amount"
   ]
  },
  {
   "cell_type": "markdown",
   "metadata": {},
   "source": [
    "The *Time slots* we are referring to are\n",
    "\n",
    " 1) 06:00 - 10:00\n",
    " \n",
    " 2) 10:00 - 18:00\n",
    " \n",
    " 3) 18:00 - 22:00\n",
    " \n",
    " 4) 22:00 - 06:00"
   ]
  },
  {
   "cell_type": "code",
   "execution_count": 26,
   "metadata": {},
   "outputs": [],
   "source": [
    "df['pickup_hour'] = df.tpep_pickup_datetime.apply(lambda x: x.hour)"
   ]
  },
  {
   "cell_type": "code",
   "execution_count": 27,
   "metadata": {},
   "outputs": [
    {
     "data": {
      "text/html": [
       "<div>\n",
       "<style scoped>\n",
       "    .dataframe tbody tr th:only-of-type {\n",
       "        vertical-align: middle;\n",
       "    }\n",
       "\n",
       "    .dataframe tbody tr th {\n",
       "        vertical-align: top;\n",
       "    }\n",
       "\n",
       "    .dataframe thead th {\n",
       "        text-align: right;\n",
       "    }\n",
       "</style>\n",
       "<table border=\"1\" class=\"dataframe\">\n",
       "  <thead>\n",
       "    <tr style=\"text-align: right;\">\n",
       "      <th></th>\n",
       "      <th>tpep_pickup_datetime</th>\n",
       "      <th>tpep_dropoff_datetime</th>\n",
       "      <th>passenger_count</th>\n",
       "      <th>trip_distance</th>\n",
       "      <th>PULocationID</th>\n",
       "      <th>DOLocationID</th>\n",
       "      <th>payment_type</th>\n",
       "      <th>tip_amount</th>\n",
       "      <th>total_amount</th>\n",
       "      <th>time_distance</th>\n",
       "      <th>speed</th>\n",
       "      <th>pickup_hour</th>\n",
       "      <th>time_slot</th>\n",
       "    </tr>\n",
       "  </thead>\n",
       "  <tbody>\n",
       "    <tr>\n",
       "      <th>0</th>\n",
       "      <td>2020-05-01 00:02:28</td>\n",
       "      <td>2020-05-01 00:18:07</td>\n",
       "      <td>1.0</td>\n",
       "      <td>0.0</td>\n",
       "      <td>1.0</td>\n",
       "      <td>0.0</td>\n",
       "      <td>1.0</td>\n",
       "      <td>2.40</td>\n",
       "      <td>18.40</td>\n",
       "      <td>939</td>\n",
       "      <td>0.000000</td>\n",
       "      <td>0</td>\n",
       "      <td>4</td>\n",
       "    </tr>\n",
       "    <tr>\n",
       "      <th>1</th>\n",
       "      <td>2020-05-01 00:07:10</td>\n",
       "      <td>2020-05-01 00:12:46</td>\n",
       "      <td>1.0</td>\n",
       "      <td>1.7</td>\n",
       "      <td>1.0</td>\n",
       "      <td>1.0</td>\n",
       "      <td>2.0</td>\n",
       "      <td>0.00</td>\n",
       "      <td>10.80</td>\n",
       "      <td>336</td>\n",
       "      <td>18.214286</td>\n",
       "      <td>0</td>\n",
       "      <td>4</td>\n",
       "    </tr>\n",
       "    <tr>\n",
       "      <th>2</th>\n",
       "      <td>2020-05-01 00:09:46</td>\n",
       "      <td>2020-05-01 00:27:44</td>\n",
       "      <td>1.0</td>\n",
       "      <td>2.9</td>\n",
       "      <td>1.0</td>\n",
       "      <td>1.0</td>\n",
       "      <td>2.0</td>\n",
       "      <td>0.00</td>\n",
       "      <td>15.80</td>\n",
       "      <td>1078</td>\n",
       "      <td>9.684601</td>\n",
       "      <td>0</td>\n",
       "      <td>4</td>\n",
       "    </tr>\n",
       "    <tr>\n",
       "      <th>3</th>\n",
       "      <td>2020-05-01 00:22:48</td>\n",
       "      <td>2020-05-01 00:28:58</td>\n",
       "      <td>1.0</td>\n",
       "      <td>1.5</td>\n",
       "      <td>1.0</td>\n",
       "      <td>1.0</td>\n",
       "      <td>1.0</td>\n",
       "      <td>2.15</td>\n",
       "      <td>12.95</td>\n",
       "      <td>370</td>\n",
       "      <td>14.594595</td>\n",
       "      <td>0</td>\n",
       "      <td>4</td>\n",
       "    </tr>\n",
       "    <tr>\n",
       "      <th>4</th>\n",
       "      <td>2020-05-01 00:57:59</td>\n",
       "      <td>2020-05-01 01:07:48</td>\n",
       "      <td>1.0</td>\n",
       "      <td>2.0</td>\n",
       "      <td>1.0</td>\n",
       "      <td>1.0</td>\n",
       "      <td>2.0</td>\n",
       "      <td>0.00</td>\n",
       "      <td>12.80</td>\n",
       "      <td>589</td>\n",
       "      <td>12.224109</td>\n",
       "      <td>0</td>\n",
       "      <td>4</td>\n",
       "    </tr>\n",
       "  </tbody>\n",
       "</table>\n",
       "</div>"
      ],
      "text/plain": [
       "  tpep_pickup_datetime tpep_dropoff_datetime  passenger_count  trip_distance  \\\n",
       "0  2020-05-01 00:02:28   2020-05-01 00:18:07              1.0            0.0   \n",
       "1  2020-05-01 00:07:10   2020-05-01 00:12:46              1.0            1.7   \n",
       "2  2020-05-01 00:09:46   2020-05-01 00:27:44              1.0            2.9   \n",
       "3  2020-05-01 00:22:48   2020-05-01 00:28:58              1.0            1.5   \n",
       "4  2020-05-01 00:57:59   2020-05-01 01:07:48              1.0            2.0   \n",
       "\n",
       "   PULocationID  DOLocationID  payment_type  tip_amount  total_amount  \\\n",
       "0           1.0           0.0           1.0        2.40         18.40   \n",
       "1           1.0           1.0           2.0        0.00         10.80   \n",
       "2           1.0           1.0           2.0        0.00         15.80   \n",
       "3           1.0           1.0           1.0        2.15         12.95   \n",
       "4           1.0           1.0           2.0        0.00         12.80   \n",
       "\n",
       "  time_distance      speed  pickup_hour  time_slot  \n",
       "0           939   0.000000            0          4  \n",
       "1           336  18.214286            0          4  \n",
       "2          1078   9.684601            0          4  \n",
       "3           370  14.594595            0          4  \n",
       "4           589  12.224109            0          4  "
      ]
     },
     "execution_count": 27,
     "metadata": {},
     "output_type": "execute_result"
    }
   ],
   "source": [
    "cl_f = {1: 4,  2: 4, 2: 4, 3: 4,  4: 4,  5: 4, 6: 1,  7: 1,   8: 1,  9: 1,  10: 2, 11: 2, 12: 2, \\\n",
    "       13: 2, 14: 2, 15: 2, 16: 2, 17: 2 , 18: 3, 19: 3, 20: 3, 21: 3, 22: 4, 23: 4, 0: 4}\n",
    "\n",
    "df['time_slot'] = df['pickup_hour'].map(cl_f)\n",
    "\n",
    "#check\n",
    "df.head()"
   ]
  },
  {
   "cell_type": "code",
   "execution_count": 28,
   "metadata": {},
   "outputs": [
    {
     "data": {
      "text/plain": [
       "time_slot\n",
       "1    1.530655\n",
       "2    1.557864\n",
       "3    1.700357\n",
       "4    1.165190\n",
       "Name: tip_amount, dtype: float64"
      ]
     },
     "execution_count": 28,
     "metadata": {},
     "output_type": "execute_result"
    }
   ],
   "source": [
    "df.groupby(df.time_slot).tip_amount.mean()"
   ]
  },
  {
   "cell_type": "markdown",
   "metadata": {},
   "source": [
    "---"
   ]
  },
  {
   "cell_type": "markdown",
   "metadata": {},
   "source": [
    "#### PULocationID & DOLocationID vs Tip amount"
   ]
  },
  {
   "cell_type": "code",
   "execution_count": 29,
   "metadata": {},
   "outputs": [
    {
     "data": {
      "text/plain": [
       "PULocationID\n",
       "0.0    1.354035\n",
       "1.0    1.548405\n",
       "Name: tip_amount, dtype: float64"
      ]
     },
     "execution_count": 29,
     "metadata": {},
     "output_type": "execute_result"
    }
   ],
   "source": [
    "df.groupby(df.PULocationID).tip_amount.mean()"
   ]
  },
  {
   "cell_type": "code",
   "execution_count": null,
   "metadata": {},
   "outputs": [],
   "source": [
    "df.groupby(df.DOLocationID).tip_amount.mean()"
   ]
  },
  {
   "cell_type": "markdown",
   "metadata": {},
   "source": [
    "DOLocationID\n",
    "\n",
    "0.0    1.349290\n",
    "\n",
    "1.0    1.645104\n",
    "\n",
    "Name: tip_amount, dtype: float64"
   ]
  },
  {
   "cell_type": "markdown",
   "metadata": {},
   "source": [
    "---"
   ]
  },
  {
   "cell_type": "markdown",
   "metadata": {},
   "source": [
    "#### Time distance vs Tip amount"
   ]
  },
  {
   "cell_type": "code",
   "execution_count": 30,
   "metadata": {},
   "outputs": [
    {
     "data": {
      "image/png": "[encoded data removed]",
      "text/plain": [
       "<Figure size 432x288 with 1 Axes>"
      ]
     },
     "metadata": {
      "needs_background": "light"
     },
     "output_type": "display_data"
    }
   ],
   "source": [
    "#compare the trend of the time distance travelled wrt the amount of the tip\n",
    "\n",
    "plt.figure()\n",
    "plt.scatter(df.time_distance[0:100], df.tip_amount[0:100], color = (0.5,0.1,0.5,0.6))\n",
    "plt.title('Time Distance vs Tip')\n",
    "plt.xlabel('time distance')\n",
    "plt.ylabel('tip')\n",
    "plt.show()\n"
   ]
  },
  {
   "cell_type": "code",
   "execution_count": 31,
   "metadata": {},
   "outputs": [],
   "source": [
    "df[\"time_distance\"] = pd.to_numeric(df[\"time_distance\"])"
   ]
  },
  {
   "cell_type": "code",
   "execution_count": 32,
   "metadata": {},
   "outputs": [
    {
     "name": "stdout",
     "output_type": "stream",
     "text": [
      "The correlation between the time distance and the amount of the tip is 0.04\n"
     ]
    }
   ],
   "source": [
    "\n",
    "print('The correlation between the time distance and the amount of the tip is '+ str(round(np.corrcoef(df['time_distance'], \\\n",
    "df['tip_amount'])[0][1], 2)))\n"
   ]
  },
  {
   "cell_type": "markdown",
   "metadata": {},
   "source": [
    "---"
   ]
  },
  {
   "cell_type": "markdown",
   "metadata": {},
   "source": [
    "#### Payment type vs Tip_amount"
   ]
  },
  {
   "cell_type": "code",
   "execution_count": 33,
   "metadata": {},
   "outputs": [
    {
     "data": {
      "text/plain": [
       "payment_type\n",
       "1.0    2.491468\n",
       "2.0    0.000194\n",
       "Name: tip_amount, dtype: float64"
      ]
     },
     "execution_count": 33,
     "metadata": {},
     "output_type": "execute_result"
    }
   ],
   "source": [
    "df.groupby(df.payment_type).tip_amount.mean()"
   ]
  },
  {
   "cell_type": "markdown",
   "metadata": {},
   "source": [
    "From this analysis we conclude that the useful feature we could use in order to predict the amount of the tip given by a\n",
    "passenger after a taxi ride in NYC are: \n",
    "- passenger_count\n",
    "- trip_distance\n",
    "- PULocationID\n",
    "- payment_type \n",
    "- total_amount\n",
    "- time_slot\n",
    "- DOLocationID \n",
    "- PULocationID"
   ]
  },
  {
   "cell_type": "markdown",
   "metadata": {},
   "source": [
    "\n",
    "\n",
    "\n",
    "\n",
    "\n",
    "*************************************************************************************"
   ]
  },
  {
   "cell_type": "markdown",
   "metadata": {},
   "source": [
    "# Analysis of features for Logistic Regression\n",
    "\n",
    "**Goals**\n",
    "the goal of this task is to create a model capable of predicting the starting district of a taxi ride, classifying Brooklyn as 0 and Manhattan as 1.\n",
    "\n",
    "Before going into the model, our intention is to study the relationships between the different features that could serve us and, in fact, the starting district. In this way, we will try to understand what the trends are and what result our model should tend to predict, under certain conditions.\n",
    "\n",
    "In addition to doing this, we need to structure our features so that they are linearly linked to the output. (example: taken into consideration n significant features, for values greater than a certain moving threshold in the n features, the model will have to predict success, understood as 1, Manhattan.) Therefore, model the values of the features so that the higher ranges are associated with Manhattan, while the lower value ranges in Brooklyn.\n",
    "\n",
    "---------------------------------------------------------\n",
    "\n",
    "**Let's analyze tra Class of our dataset**"
   ]
  },
  {
   "cell_type": "code",
   "execution_count": 34,
   "metadata": {},
   "outputs": [
    {
     "name": "stdout",
     "output_type": "stream",
     "text": [
      "4265\n",
      "253688\n"
     ]
    }
   ],
   "source": [
    "print(len(df[df.PULocationID == 0]))\n",
    "print(len(df[df.PULocationID == 1]))"
   ]
  },
  {
   "cell_type": "code",
   "execution_count": 35,
   "metadata": {},
   "outputs": [
    {
     "data": {
      "image/png": "[encoded data removed]",
      "text/plain": [
       "<Figure size 432x288 with 1 Axes>"
      ]
     },
     "metadata": {
      "needs_background": "light"
     },
     "output_type": "display_data"
    }
   ],
   "source": [
    "sns.countplot(x='PULocationID', data = df , palette= 'hls')\n",
    "plt.show()"
   ]
  },
  {
   "cell_type": "markdown",
   "metadata": {},
   "source": [
    "Our dataset is strongly unbalanced, so we need to modify it in order to make our model more accurated"
   ]
  },
  {
   "cell_type": "code",
   "execution_count": 36,
   "metadata": {},
   "outputs": [
    {
     "name": "stdout",
     "output_type": "stream",
     "text": [
      "percentage of Manhattan is 98.34659802367098\n",
      "percentage of Brooklyn 1.6534019763290213\n"
     ]
    }
   ],
   "source": [
    "brooklyn = (len(df[df.PULocationID == 0]))\n",
    "manhattan = (len(df[df.PULocationID == 1]))\n",
    "pct_of_manhattan = manhattan / (brooklyn + manhattan)\n",
    "print(\"percentage of Manhattan is\", pct_of_manhattan*100)\n",
    "\n",
    "pct_of_brooklyn = brooklyn/(brooklyn + manhattan)\n",
    "print(\"percentage of Brooklyn\", pct_of_brooklyn*100)"
   ]
  },
  {
   "cell_type": "code",
   "execution_count": 37,
   "metadata": {},
   "outputs": [],
   "source": [
    "df_M = df[df.PULocationID == 1].sample(n = 4265)\n",
    "df_B = df[df.PULocationID == 0]"
   ]
  },
  {
   "cell_type": "code",
   "execution_count": 38,
   "metadata": {},
   "outputs": [
    {
     "data": {
      "text/html": [
       "<div>\n",
       "<style scoped>\n",
       "    .dataframe tbody tr th:only-of-type {\n",
       "        vertical-align: middle;\n",
       "    }\n",
       "\n",
       "    .dataframe tbody tr th {\n",
       "        vertical-align: top;\n",
       "    }\n",
       "\n",
       "    .dataframe thead th {\n",
       "        text-align: right;\n",
       "    }\n",
       "</style>\n",
       "<table border=\"1\" class=\"dataframe\">\n",
       "  <thead>\n",
       "    <tr style=\"text-align: right;\">\n",
       "      <th></th>\n",
       "      <th>tpep_pickup_datetime</th>\n",
       "      <th>tpep_dropoff_datetime</th>\n",
       "      <th>passenger_count</th>\n",
       "      <th>trip_distance</th>\n",
       "      <th>DOLocationID</th>\n",
       "      <th>payment_type</th>\n",
       "      <th>tip_amount</th>\n",
       "      <th>total_amount</th>\n",
       "      <th>time_distance</th>\n",
       "      <th>speed</th>\n",
       "      <th>pickup_hour</th>\n",
       "      <th>time_slot</th>\n",
       "    </tr>\n",
       "    <tr>\n",
       "      <th>PULocationID</th>\n",
       "      <th></th>\n",
       "      <th></th>\n",
       "      <th></th>\n",
       "      <th></th>\n",
       "      <th></th>\n",
       "      <th></th>\n",
       "      <th></th>\n",
       "      <th></th>\n",
       "      <th></th>\n",
       "      <th></th>\n",
       "      <th></th>\n",
       "      <th></th>\n",
       "    </tr>\n",
       "  </thead>\n",
       "  <tbody>\n",
       "    <tr>\n",
       "      <th>0.0</th>\n",
       "      <td>4265</td>\n",
       "      <td>4265</td>\n",
       "      <td>4265</td>\n",
       "      <td>4265</td>\n",
       "      <td>4265</td>\n",
       "      <td>4265</td>\n",
       "      <td>4265</td>\n",
       "      <td>4265</td>\n",
       "      <td>4265</td>\n",
       "      <td>4265</td>\n",
       "      <td>4265</td>\n",
       "      <td>4265</td>\n",
       "    </tr>\n",
       "    <tr>\n",
       "      <th>1.0</th>\n",
       "      <td>4265</td>\n",
       "      <td>4265</td>\n",
       "      <td>4265</td>\n",
       "      <td>4265</td>\n",
       "      <td>4265</td>\n",
       "      <td>4265</td>\n",
       "      <td>4265</td>\n",
       "      <td>4265</td>\n",
       "      <td>4265</td>\n",
       "      <td>4265</td>\n",
       "      <td>4265</td>\n",
       "      <td>4265</td>\n",
       "    </tr>\n",
       "  </tbody>\n",
       "</table>\n",
       "</div>"
      ],
      "text/plain": [
       "              tpep_pickup_datetime  tpep_dropoff_datetime  passenger_count  \\\n",
       "PULocationID                                                                 \n",
       "0.0                           4265                   4265             4265   \n",
       "1.0                           4265                   4265             4265   \n",
       "\n",
       "              trip_distance  DOLocationID  payment_type  tip_amount  \\\n",
       "PULocationID                                                          \n",
       "0.0                    4265          4265          4265        4265   \n",
       "1.0                    4265          4265          4265        4265   \n",
       "\n",
       "              total_amount  time_distance  speed  pickup_hour  time_slot  \n",
       "PULocationID                                                              \n",
       "0.0                   4265           4265   4265         4265       4265  \n",
       "1.0                   4265           4265   4265         4265       4265  "
      ]
     },
     "execution_count": 38,
     "metadata": {},
     "output_type": "execute_result"
    }
   ],
   "source": [
    "df = pd.concat([df_M, df_B], axis=0, sort=False)\n",
    "\n",
    "#check\n",
    "df.groupby(df.PULocationID).count()"
   ]
  },
  {
   "cell_type": "code",
   "execution_count": 39,
   "metadata": {},
   "outputs": [],
   "source": [
    "df.reset_index(drop=True, inplace=True)"
   ]
  },
  {
   "cell_type": "markdown",
   "metadata": {},
   "source": [
    "---------------------------------------------------------------------------"
   ]
  },
  {
   "cell_type": "markdown",
   "metadata": {},
   "source": [
    "#### Time distance vs PULocationID"
   ]
  },
  {
   "cell_type": "markdown",
   "metadata": {},
   "source": [
    "**Pre-consideration**\n",
    "\n",
    "We want to explore the relationship between the time_distance and PULocationID, in order to understand if this feature can be useful for our model and how is better placing the threshold"
   ]
  },
  {
   "cell_type": "code",
   "execution_count": 47,
   "metadata": {},
   "outputs": [
    {
     "data": {
      "text/plain": [
       "PULocationID\n",
       "0.0    1.354035\n",
       "1.0    1.571782\n",
       "Name: tip_amount, dtype: float64"
      ]
     },
     "execution_count": 47,
     "metadata": {},
     "output_type": "execute_result"
    }
   ],
   "source": [
    "df.groupby(df.PULocationID).tip_amount.mean()"
   ]
  },
  {
   "cell_type": "code",
   "execution_count": 48,
   "metadata": {},
   "outputs": [
    {
     "name": "stdout",
     "output_type": "stream",
     "text": [
      "PULocationID\n",
      "0.0    1364.481125\n",
      "1.0     639.670106\n",
      "Name: time_distance, dtype: float64\n"
     ]
    },
    {
     "data": {
      "text/plain": [
       "<matplotlib.collections.PathCollection at 0x25ac3950>"
      ]
     },
     "execution_count": 48,
     "metadata": {},
     "output_type": "execute_result"
    },
    {
     "data": {
      "image/png": "[encoded data removed]",
      "text/plain": [
       "<Figure size 432x288 with 1 Axes>"
      ]
     },
     "metadata": {
      "needs_background": "light"
     },
     "output_type": "display_data"
    }
   ],
   "source": [
    "mean_time = df.groupby(df.PULocationID).time_distance.mean()\n",
    "print(mean_time)\n",
    "plt.scatter([0,1] ,mean_time )"
   ]
  },
  {
   "cell_type": "markdown",
   "metadata": {},
   "source": [
    "The average time passed in the taxy, for passengers, is bigger when they take it from Brooklyn (0)   \n",
    "\n",
    "This it means that our logistic model should predict the target Brooklyn when the values of time_distance are higher than a threshold"
   ]
  },
  {
   "cell_type": "markdown",
   "metadata": {},
   "source": [
    "----------------------------------------------------------------------\n",
    "\n",
    "#### Passeger count vs PULocationID\n",
    "\n",
    "**Pre-consideration**\n",
    "\n",
    "We want to explore the relationship between the passenger_count and PULocation, in order to understand if this feature can be useful for our model and how is better placing the threshold"
   ]
  },
  {
   "cell_type": "code",
   "execution_count": 50,
   "metadata": {},
   "outputs": [
    {
     "name": "stdout",
     "output_type": "stream",
     "text": [
      "PULocationID\n",
      "0.0    1.34959\n",
      "1.0    1.35381\n",
      "Name: passenger_count, dtype: float64\n"
     ]
    }
   ],
   "source": [
    "mean_pass = df.groupby(df.PULocationID).passenger_count.mean()\n",
    "print(mean_pass)\n",
    "#plt.scatter([0,1] ,mean_pass )"
   ]
  },
  {
   "cell_type": "code",
   "execution_count": 51,
   "metadata": {},
   "outputs": [
    {
     "data": {
      "text/plain": [
       "<matplotlib.axes._subplots.AxesSubplot at 0x2525d490>"
      ]
     },
     "execution_count": 51,
     "metadata": {},
     "output_type": "execute_result"
    },
    {
     "data": {
      "image/png": "[encoded data removed]",
      "text/plain": [
       "<Figure size 432x288 with 1 Axes>"
      ]
     },
     "metadata": {
      "needs_background": "light"
     },
     "output_type": "display_data"
    }
   ],
   "source": [
    "df.passenger_count.hist()"
   ]
  },
  {
   "cell_type": "markdown",
   "metadata": {},
   "source": [
    "The feature **passenger_count** has all the value concentrated near 1, and the mean relative to Brooklyn and Manhattan does not change in a meaningful way.\n",
    "This let us think that this feature in not meaningful for the purpose of our model"
   ]
  },
  {
   "cell_type": "markdown",
   "metadata": {},
   "source": [
    "-------------------------------------------------------------\n",
    "\n",
    "#### Payment type vs  PULocationID"
   ]
  },
  {
   "cell_type": "code",
   "execution_count": 52,
   "metadata": {},
   "outputs": [
    {
     "data": {
      "text/html": [
       "<div>\n",
       "<style scoped>\n",
       "    .dataframe tbody tr th:only-of-type {\n",
       "        vertical-align: middle;\n",
       "    }\n",
       "\n",
       "    .dataframe tbody tr th {\n",
       "        vertical-align: top;\n",
       "    }\n",
       "\n",
       "    .dataframe thead th {\n",
       "        text-align: right;\n",
       "    }\n",
       "</style>\n",
       "<table border=\"1\" class=\"dataframe\">\n",
       "  <thead>\n",
       "    <tr style=\"text-align: right;\">\n",
       "      <th></th>\n",
       "      <th>tpep_pickup_datetime</th>\n",
       "      <th>tpep_dropoff_datetime</th>\n",
       "      <th>passenger_count</th>\n",
       "      <th>trip_distance</th>\n",
       "      <th>PULocationID</th>\n",
       "      <th>DOLocationID</th>\n",
       "      <th>payment_type</th>\n",
       "      <th>tip_amount</th>\n",
       "      <th>total_amount</th>\n",
       "      <th>time_distance</th>\n",
       "      <th>speed</th>\n",
       "      <th>pickup_hour</th>\n",
       "      <th>time_slot</th>\n",
       "    </tr>\n",
       "  </thead>\n",
       "  <tbody>\n",
       "    <tr>\n",
       "      <th>0</th>\n",
       "      <td>2020-05-29 06:39:10</td>\n",
       "      <td>2020-05-29 06:54:23</td>\n",
       "      <td>1.0</td>\n",
       "      <td>3.96</td>\n",
       "      <td>1.0</td>\n",
       "      <td>1.0</td>\n",
       "      <td>2.0</td>\n",
       "      <td>0.00</td>\n",
       "      <td>17.80</td>\n",
       "      <td>913</td>\n",
       "      <td>15.614458</td>\n",
       "      <td>6</td>\n",
       "      <td>1</td>\n",
       "    </tr>\n",
       "    <tr>\n",
       "      <th>1</th>\n",
       "      <td>2020-05-10 01:27:05</td>\n",
       "      <td>2020-05-10 01:34:09</td>\n",
       "      <td>2.0</td>\n",
       "      <td>1.84</td>\n",
       "      <td>1.0</td>\n",
       "      <td>1.0</td>\n",
       "      <td>1.0</td>\n",
       "      <td>3.39</td>\n",
       "      <td>14.69</td>\n",
       "      <td>424</td>\n",
       "      <td>15.622642</td>\n",
       "      <td>1</td>\n",
       "      <td>4</td>\n",
       "    </tr>\n",
       "    <tr>\n",
       "      <th>2</th>\n",
       "      <td>2020-05-14 14:53:27</td>\n",
       "      <td>2020-05-14 14:56:06</td>\n",
       "      <td>2.0</td>\n",
       "      <td>0.59</td>\n",
       "      <td>1.0</td>\n",
       "      <td>1.0</td>\n",
       "      <td>2.0</td>\n",
       "      <td>0.00</td>\n",
       "      <td>7.30</td>\n",
       "      <td>159</td>\n",
       "      <td>13.358491</td>\n",
       "      <td>14</td>\n",
       "      <td>2</td>\n",
       "    </tr>\n",
       "    <tr>\n",
       "      <th>3</th>\n",
       "      <td>2020-05-28 13:27:14</td>\n",
       "      <td>2020-05-28 13:32:44</td>\n",
       "      <td>2.0</td>\n",
       "      <td>0.80</td>\n",
       "      <td>1.0</td>\n",
       "      <td>1.0</td>\n",
       "      <td>2.0</td>\n",
       "      <td>0.00</td>\n",
       "      <td>8.80</td>\n",
       "      <td>330</td>\n",
       "      <td>8.727273</td>\n",
       "      <td>13</td>\n",
       "      <td>2</td>\n",
       "    </tr>\n",
       "    <tr>\n",
       "      <th>4</th>\n",
       "      <td>2020-05-06 16:36:57</td>\n",
       "      <td>2020-05-06 16:55:42</td>\n",
       "      <td>1.0</td>\n",
       "      <td>5.93</td>\n",
       "      <td>1.0</td>\n",
       "      <td>1.0</td>\n",
       "      <td>2.0</td>\n",
       "      <td>0.00</td>\n",
       "      <td>23.80</td>\n",
       "      <td>1125</td>\n",
       "      <td>18.976000</td>\n",
       "      <td>16</td>\n",
       "      <td>2</td>\n",
       "    </tr>\n",
       "  </tbody>\n",
       "</table>\n",
       "</div>"
      ],
      "text/plain": [
       "  tpep_pickup_datetime tpep_dropoff_datetime  passenger_count  trip_distance  \\\n",
       "0  2020-05-29 06:39:10   2020-05-29 06:54:23              1.0           3.96   \n",
       "1  2020-05-10 01:27:05   2020-05-10 01:34:09              2.0           1.84   \n",
       "2  2020-05-14 14:53:27   2020-05-14 14:56:06              2.0           0.59   \n",
       "3  2020-05-28 13:27:14   2020-05-28 13:32:44              2.0           0.80   \n",
       "4  2020-05-06 16:36:57   2020-05-06 16:55:42              1.0           5.93   \n",
       "\n",
       "   PULocationID  DOLocationID  payment_type  tip_amount  total_amount  \\\n",
       "0           1.0           1.0           2.0        0.00         17.80   \n",
       "1           1.0           1.0           1.0        3.39         14.69   \n",
       "2           1.0           1.0           2.0        0.00          7.30   \n",
       "3           1.0           1.0           2.0        0.00          8.80   \n",
       "4           1.0           1.0           2.0        0.00         23.80   \n",
       "\n",
       "   time_distance      speed  pickup_hour  time_slot  \n",
       "0            913  15.614458            6          1  \n",
       "1            424  15.622642            1          4  \n",
       "2            159  13.358491           14          2  \n",
       "3            330   8.727273           13          2  \n",
       "4           1125  18.976000           16          2  "
      ]
     },
     "execution_count": 52,
     "metadata": {},
     "output_type": "execute_result"
    }
   ],
   "source": [
    "df.head()"
   ]
  },
  {
   "cell_type": "code",
   "execution_count": 53,
   "metadata": {},
   "outputs": [
    {
     "data": {
      "text/plain": [
       "<matplotlib.axes._subplots.AxesSubplot at 0x2529ef10>"
      ]
     },
     "execution_count": 53,
     "metadata": {},
     "output_type": "execute_result"
    },
    {
     "data": {
      "image/png": "[encoded data removed]",
      "text/plain": [
       "<Figure size 432x288 with 1 Axes>"
      ]
     },
     "metadata": {
      "needs_background": "light"
     },
     "output_type": "display_data"
    }
   ],
   "source": [
    "\n",
    "pd.crosstab(df.payment_type,df.PULocationID).plot(kind='bar')\n"
   ]
  },
  {
   "cell_type": "code",
   "execution_count": 54,
   "metadata": {},
   "outputs": [
    {
     "name": "stdout",
     "output_type": "stream",
     "text": [
      "percentage of payment_type 1, on brooklyn runs is 65.36928487690504\n",
      "percentage of payment_type 2, on brooklyn runs is 34.63071512309496\n"
     ]
    }
   ],
   "source": [
    "\n",
    "br = df[df.PULocationID == 0]\n",
    "mnh = df[df.PULocationID == 1]\n",
    "\n",
    "l1_br = len(br[br.payment_type == 1])\n",
    "l2_br= len(br[br.payment_type == 2])\n",
    "\n",
    "pct_of_l1_b = l1_br/(l1_br+l2_br)\n",
    "pct_of_l2_b = l2_br/(l1_br+l2_br)\n",
    "\n",
    "print(\"percentage of payment_type 1, on brooklyn runs is\", pct_of_l1_b*100)\n",
    "print(\"percentage of payment_type 2, on brooklyn runs is\", pct_of_l2_b*100)\n"
   ]
  },
  {
   "cell_type": "code",
   "execution_count": 55,
   "metadata": {},
   "outputs": [
    {
     "name": "stdout",
     "output_type": "stream",
     "text": [
      "percentage of payment_type 1, on manhattan runs is 63.259085580304806\n",
      "percentage of payment_type 2, on manhattan runs is 36.740914419695194\n"
     ]
    }
   ],
   "source": [
    "\n",
    "br = df[df.PULocationID == 0]\n",
    "mnh = df[df.PULocationID == 1]\n",
    "\n",
    "l1_mnh = len(mnh[mnh.payment_type == 1])\n",
    "l2_mnh= len(mnh[mnh.payment_type == 2])\n",
    "\n",
    "pct_of_l1_m = l1_mnh/(l1_mnh+l2_mnh)\n",
    "pct_of_l2_m = l2_mnh/(l1_mnh+l2_mnh)\n",
    "\n",
    "print(\"percentage of payment_type 1, on manhattan runs is\", pct_of_l1_m*100)\n",
    "print(\"percentage of payment_type 2, on manhattan runs is\", pct_of_l2_m*100)\n"
   ]
  },
  {
   "cell_type": "markdown",
   "metadata": {},
   "source": [
    "As we can see, the percentage of type payment 1 is higher in the Brooklyn runs, this let us think that when the payment is done by type '1', the probability that the departure borough is \"Brooklyn\" is higher"
   ]
  },
  {
   "cell_type": "markdown",
   "metadata": {},
   "source": [
    "We now compare the tip_amount, total_amount and trip_distance with the PULocationID in order to find out which of this features is usefull for the logistic regression.\n",
    "For this purpose we look at the mean of these features related to Manhattan (1) and Brooklyn (0). "
   ]
  },
  {
   "cell_type": "markdown",
   "metadata": {},
   "source": [
    "#### tip_amount vs PULocationID"
   ]
  },
  {
   "cell_type": "code",
   "execution_count": 11,
   "metadata": {},
   "outputs": [
    {
     "data": {
      "text/plain": [
       "PULocationID\n",
       "0.0    1.349290\n",
       "1.0    1.645104\n",
       "Name: tip_amount, dtype: float64"
      ]
     },
     "execution_count": 11,
     "metadata": {},
     "output_type": "execute_result"
    }
   ],
   "source": [
    "df.groupby(df.PULocationID).tip_amount.mean()"
   ]
  },
  {
   "cell_type": "markdown",
   "metadata": {},
   "source": [
    "The difference between the two values is not significant, in fact the ratio of the two is equal to "
   ]
  },
  {
   "cell_type": "code",
   "execution_count": 13,
   "metadata": {},
   "outputs": [
    {
     "data": {
      "text/plain": [
       "1.219236998360561"
      ]
     },
     "execution_count": 13,
     "metadata": {},
     "output_type": "execute_result"
    }
   ],
   "source": [
    "df.groupby(df.PULocationID).tip_amount.mean()[1]/df.groupby(df.PULocationID).tip_amount.mean()[0]"
   ]
  },
  {
   "cell_type": "markdown",
   "metadata": {},
   "source": [
    "which is not enough high. Instead we are looking for ratio values greater or equal 1.5"
   ]
  },
  {
   "cell_type": "markdown",
   "metadata": {},
   "source": [
    "#### total_amount vs PULocationID"
   ]
  },
  {
   "cell_type": "code",
   "execution_count": 16,
   "metadata": {},
   "outputs": [
    {
     "data": {
      "text/plain": [
       "PULocationID\n",
       "0.0    24.276014\n",
       "1.0    15.401911\n",
       "Name: total_amount, dtype: float64"
      ]
     },
     "execution_count": 16,
     "metadata": {},
     "output_type": "execute_result"
    }
   ],
   "source": [
    "df.groupby(df.PULocationID).total_amount.mean()"
   ]
  },
  {
   "cell_type": "markdown",
   "metadata": {},
   "source": [
    "Here the values have a greater difference. In particular the ratio is equal to"
   ]
  },
  {
   "cell_type": "code",
   "execution_count": 17,
   "metadata": {},
   "outputs": [
    {
     "data": {
      "text/plain": [
       "1.5761689821188727"
      ]
     },
     "execution_count": 17,
     "metadata": {},
     "output_type": "execute_result"
    }
   ],
   "source": [
    "df.groupby(df.PULocationID).total_amount.mean()[0]/df.groupby(df.PULocationID).total_amount.mean()[1]"
   ]
  },
  {
   "cell_type": "markdown",
   "metadata": {},
   "source": [
    "#### trip_distance vs PULocationID"
   ]
  },
  {
   "cell_type": "code",
   "execution_count": 19,
   "metadata": {},
   "outputs": [
    {
     "data": {
      "text/plain": [
       "PULocationID\n",
       "0.0    3.880600\n",
       "1.0    2.481715\n",
       "Name: trip_distance, dtype: float64"
      ]
     },
     "execution_count": 19,
     "metadata": {},
     "output_type": "execute_result"
    }
   ],
   "source": [
    "df.groupby(df.PULocationID).trip_distance.mean()"
   ]
  },
  {
   "cell_type": "markdown",
   "metadata": {},
   "source": [
    "Ratio:"
   ]
  },
  {
   "cell_type": "code",
   "execution_count": 21,
   "metadata": {},
   "outputs": [
    {
     "data": {
      "text/plain": [
       "1.5636772017585547"
      ]
     },
     "execution_count": 21,
     "metadata": {},
     "output_type": "execute_result"
    }
   ],
   "source": [
    "df.groupby(df.PULocationID).trip_distance.mean()[0]/df.groupby(df.PULocationID).trip_distance.mean()[1]"
   ]
  },
  {
   "cell_type": "markdown",
   "metadata": {},
   "source": [
    "So in the end the two features which is meaningful to take are total_amount and trip_distance"
   ]
  },
  {
   "cell_type": "markdown",
   "metadata": {},
   "source": [
    "From this analysis we conclude that the useful feature we could use in order to predict the departure borough of a taxi ride in\n",
    "NYC are: \n",
    "- time_distance\n",
    "- payment_type\n",
    "- total_amount\n",
    "- trip_tristance\n",
    "\n",
    "********************************************************************************"
   ]
  },
  {
   "cell_type": "markdown",
   "metadata": {},
   "source": [
    "# Linear Regression Model"
   ]
  },
  {
   "cell_type": "markdown",
   "metadata": {},
   "source": [
    "To create our Linear Regression Model we use passenger_count, trip_distance, PULocationID, payment_type, total_amount, time_slot features.\n",
    "\n",
    "**Let's adapt the dataset to our purpose!**"
   ]
  },
  {
   "cell_type": "code",
   "execution_count": 7,
   "metadata": {},
   "outputs": [],
   "source": [
    "df1 = pd.read_csv('final2_df.csv')"
   ]
  },
  {
   "cell_type": "code",
   "execution_count": 3,
   "metadata": {},
   "outputs": [
    {
     "name": "stdout",
     "output_type": "stream",
     "text": [
      "8561\n"
     ]
    }
   ],
   "source": [
    "print(len(df1))"
   ]
  },
  {
   "cell_type": "code",
   "execution_count": 8,
   "metadata": {},
   "outputs": [],
   "source": [
    "columns = ['passenger_count', 'trip_distance', 'PULocationID', 'DOLocationID', 'payment_type', 'total_amount', 'time_slot', 'tip_amount']\n",
    "df = df1[columns]"
   ]
  },
  {
   "cell_type": "code",
   "execution_count": 9,
   "metadata": {},
   "outputs": [
    {
     "data": {
      "text/html": [
       "<div>\n",
       "<style scoped>\n",
       "    .dataframe tbody tr th:only-of-type {\n",
       "        vertical-align: middle;\n",
       "    }\n",
       "\n",
       "    .dataframe tbody tr th {\n",
       "        vertical-align: top;\n",
       "    }\n",
       "\n",
       "    .dataframe thead th {\n",
       "        text-align: right;\n",
       "    }\n",
       "</style>\n",
       "<table border=\"1\" class=\"dataframe\">\n",
       "  <thead>\n",
       "    <tr style=\"text-align: right;\">\n",
       "      <th></th>\n",
       "      <th>passenger_count</th>\n",
       "      <th>trip_distance</th>\n",
       "      <th>PULocationID</th>\n",
       "      <th>DOLocationID</th>\n",
       "      <th>payment_type</th>\n",
       "      <th>total_amount</th>\n",
       "      <th>time_slot</th>\n",
       "      <th>tip_amount</th>\n",
       "    </tr>\n",
       "  </thead>\n",
       "  <tbody>\n",
       "    <tr>\n",
       "      <th>0</th>\n",
       "      <td>1.0</td>\n",
       "      <td>0.67</td>\n",
       "      <td>1.0</td>\n",
       "      <td>1.0</td>\n",
       "      <td>2.0</td>\n",
       "      <td>8.30</td>\n",
       "      <td>2</td>\n",
       "      <td>0.00</td>\n",
       "    </tr>\n",
       "    <tr>\n",
       "      <th>1</th>\n",
       "      <td>1.0</td>\n",
       "      <td>3.20</td>\n",
       "      <td>1.0</td>\n",
       "      <td>1.0</td>\n",
       "      <td>1.0</td>\n",
       "      <td>24.30</td>\n",
       "      <td>1</td>\n",
       "      <td>5.00</td>\n",
       "    </tr>\n",
       "    <tr>\n",
       "      <th>2</th>\n",
       "      <td>1.0</td>\n",
       "      <td>1.96</td>\n",
       "      <td>1.0</td>\n",
       "      <td>1.0</td>\n",
       "      <td>1.0</td>\n",
       "      <td>12.80</td>\n",
       "      <td>1</td>\n",
       "      <td>2.00</td>\n",
       "    </tr>\n",
       "    <tr>\n",
       "      <th>3</th>\n",
       "      <td>1.0</td>\n",
       "      <td>6.56</td>\n",
       "      <td>1.0</td>\n",
       "      <td>0.0</td>\n",
       "      <td>2.0</td>\n",
       "      <td>26.30</td>\n",
       "      <td>1</td>\n",
       "      <td>0.00</td>\n",
       "    </tr>\n",
       "    <tr>\n",
       "      <th>4</th>\n",
       "      <td>1.0</td>\n",
       "      <td>1.40</td>\n",
       "      <td>1.0</td>\n",
       "      <td>1.0</td>\n",
       "      <td>1.0</td>\n",
       "      <td>12.42</td>\n",
       "      <td>4</td>\n",
       "      <td>1.62</td>\n",
       "    </tr>\n",
       "  </tbody>\n",
       "</table>\n",
       "</div>"
      ],
      "text/plain": [
       "   passenger_count  trip_distance  PULocationID  DOLocationID  payment_type  \\\n",
       "0              1.0           0.67           1.0           1.0           2.0   \n",
       "1              1.0           3.20           1.0           1.0           1.0   \n",
       "2              1.0           1.96           1.0           1.0           1.0   \n",
       "3              1.0           6.56           1.0           0.0           2.0   \n",
       "4              1.0           1.40           1.0           1.0           1.0   \n",
       "\n",
       "   total_amount  time_slot  tip_amount  \n",
       "0          8.30          2        0.00  \n",
       "1         24.30          1        5.00  \n",
       "2         12.80          1        2.00  \n",
       "3         26.30          1        0.00  \n",
       "4         12.42          4        1.62  "
      ]
     },
     "execution_count": 9,
     "metadata": {},
     "output_type": "execute_result"
    }
   ],
   "source": [
    "df.head()"
   ]
  },
  {
   "cell_type": "code",
   "execution_count": 7,
   "metadata": {},
   "outputs": [
    {
     "data": {
      "text/html": [
       "<div>\n",
       "<style scoped>\n",
       "    .dataframe tbody tr th:only-of-type {\n",
       "        vertical-align: middle;\n",
       "    }\n",
       "\n",
       "    .dataframe tbody tr th {\n",
       "        vertical-align: top;\n",
       "    }\n",
       "\n",
       "    .dataframe thead th {\n",
       "        text-align: right;\n",
       "    }\n",
       "</style>\n",
       "<table border=\"1\" class=\"dataframe\">\n",
       "  <thead>\n",
       "    <tr style=\"text-align: right;\">\n",
       "      <th></th>\n",
       "      <th>Unnamed: 0</th>\n",
       "      <th>tpep_pickup_datetime</th>\n",
       "      <th>tpep_dropoff_datetime</th>\n",
       "      <th>passenger_count</th>\n",
       "      <th>trip_distance</th>\n",
       "      <th>PULocationID</th>\n",
       "      <th>DOLocationID</th>\n",
       "      <th>payment_type</th>\n",
       "      <th>tip_amount</th>\n",
       "      <th>total_amount</th>\n",
       "      <th>time_distance</th>\n",
       "      <th>time_distance_bins</th>\n",
       "      <th>speed</th>\n",
       "      <th>time_hour</th>\n",
       "      <th>time_slot</th>\n",
       "    </tr>\n",
       "  </thead>\n",
       "  <tbody>\n",
       "    <tr>\n",
       "      <th>0</th>\n",
       "      <td>0</td>\n",
       "      <td>2020-05-07 10:58:49</td>\n",
       "      <td>2020-05-07 11:02:51</td>\n",
       "      <td>1.0</td>\n",
       "      <td>0.67</td>\n",
       "      <td>1.0</td>\n",
       "      <td>1.0</td>\n",
       "      <td>2.0</td>\n",
       "      <td>0.00</td>\n",
       "      <td>8.30</td>\n",
       "      <td>242</td>\n",
       "      <td>1</td>\n",
       "      <td>0.002769</td>\n",
       "      <td>10</td>\n",
       "      <td>2</td>\n",
       "    </tr>\n",
       "    <tr>\n",
       "      <th>1</th>\n",
       "      <td>1</td>\n",
       "      <td>2020-05-22 09:54:47</td>\n",
       "      <td>2020-05-22 10:16:00</td>\n",
       "      <td>1.0</td>\n",
       "      <td>3.20</td>\n",
       "      <td>1.0</td>\n",
       "      <td>1.0</td>\n",
       "      <td>1.0</td>\n",
       "      <td>5.00</td>\n",
       "      <td>24.30</td>\n",
       "      <td>1273</td>\n",
       "      <td>4</td>\n",
       "      <td>0.002514</td>\n",
       "      <td>9</td>\n",
       "      <td>1</td>\n",
       "    </tr>\n",
       "    <tr>\n",
       "      <th>2</th>\n",
       "      <td>2</td>\n",
       "      <td>2020-05-11 08:49:28</td>\n",
       "      <td>2020-05-11 08:54:37</td>\n",
       "      <td>1.0</td>\n",
       "      <td>1.96</td>\n",
       "      <td>1.0</td>\n",
       "      <td>1.0</td>\n",
       "      <td>1.0</td>\n",
       "      <td>2.00</td>\n",
       "      <td>12.80</td>\n",
       "      <td>309</td>\n",
       "      <td>2</td>\n",
       "      <td>0.006343</td>\n",
       "      <td>8</td>\n",
       "      <td>1</td>\n",
       "    </tr>\n",
       "    <tr>\n",
       "      <th>3</th>\n",
       "      <td>3</td>\n",
       "      <td>2020-05-09 07:40:32</td>\n",
       "      <td>2020-05-09 08:05:43</td>\n",
       "      <td>1.0</td>\n",
       "      <td>6.56</td>\n",
       "      <td>1.0</td>\n",
       "      <td>0.0</td>\n",
       "      <td>2.0</td>\n",
       "      <td>0.00</td>\n",
       "      <td>26.30</td>\n",
       "      <td>1511</td>\n",
       "      <td>4</td>\n",
       "      <td>0.004341</td>\n",
       "      <td>7</td>\n",
       "      <td>1</td>\n",
       "    </tr>\n",
       "    <tr>\n",
       "      <th>4</th>\n",
       "      <td>4</td>\n",
       "      <td>2020-05-15 23:38:35</td>\n",
       "      <td>2020-05-15 23:44:16</td>\n",
       "      <td>1.0</td>\n",
       "      <td>1.40</td>\n",
       "      <td>1.0</td>\n",
       "      <td>1.0</td>\n",
       "      <td>1.0</td>\n",
       "      <td>1.62</td>\n",
       "      <td>12.42</td>\n",
       "      <td>341</td>\n",
       "      <td>2</td>\n",
       "      <td>0.004106</td>\n",
       "      <td>23</td>\n",
       "      <td>4</td>\n",
       "    </tr>\n",
       "  </tbody>\n",
       "</table>\n",
       "</div>"
      ],
      "text/plain": [
       "   Unnamed: 0 tpep_pickup_datetime tpep_dropoff_datetime  passenger_count  \\\n",
       "0           0  2020-05-07 10:58:49   2020-05-07 11:02:51              1.0   \n",
       "1           1  2020-05-22 09:54:47   2020-05-22 10:16:00              1.0   \n",
       "2           2  2020-05-11 08:49:28   2020-05-11 08:54:37              1.0   \n",
       "3           3  2020-05-09 07:40:32   2020-05-09 08:05:43              1.0   \n",
       "4           4  2020-05-15 23:38:35   2020-05-15 23:44:16              1.0   \n",
       "\n",
       "   trip_distance  PULocationID  DOLocationID  payment_type  tip_amount  \\\n",
       "0           0.67           1.0           1.0           2.0        0.00   \n",
       "1           3.20           1.0           1.0           1.0        5.00   \n",
       "2           1.96           1.0           1.0           1.0        2.00   \n",
       "3           6.56           1.0           0.0           2.0        0.00   \n",
       "4           1.40           1.0           1.0           1.0        1.62   \n",
       "\n",
       "   total_amount  time_distance  time_distance_bins     speed  time_hour  \\\n",
       "0          8.30            242                   1  0.002769         10   \n",
       "1         24.30           1273                   4  0.002514          9   \n",
       "2         12.80            309                   2  0.006343          8   \n",
       "3         26.30           1511                   4  0.004341          7   \n",
       "4         12.42            341                   2  0.004106         23   \n",
       "\n",
       "   time_slot  \n",
       "0          2  \n",
       "1          1  \n",
       "2          1  \n",
       "3          1  \n",
       "4          4  "
      ]
     },
     "execution_count": 7,
     "metadata": {},
     "output_type": "execute_result"
    }
   ],
   "source": [
    "df1.drop('Unnamed: 0.1', axis = 1, inplace = True)\n",
    "df1.head()"
   ]
  },
  {
   "cell_type": "code",
   "execution_count": 8,
   "metadata": {},
   "outputs": [
    {
     "data": {
      "text/plain": [
       "Unnamed: 0                0\n",
       "tpep_pickup_datetime      0\n",
       "tpep_dropoff_datetime     0\n",
       "passenger_count           0\n",
       "trip_distance             0\n",
       "PULocationID              0\n",
       "DOLocationID              0\n",
       "payment_type              0\n",
       "tip_amount                0\n",
       "total_amount              0\n",
       "time_distance             0\n",
       "time_distance_bins        0\n",
       "speed                    18\n",
       "time_hour                 0\n",
       "time_slot                 0\n",
       "dtype: int64"
      ]
     },
     "execution_count": 8,
     "metadata": {},
     "output_type": "execute_result"
    }
   ],
   "source": [
    "df1.isnull().sum()"
   ]
  },
  {
   "cell_type": "code",
   "execution_count": 8,
   "metadata": {},
   "outputs": [],
   "source": [
    "df1['speed'].fillna(0, inplace = True)"
   ]
  },
  {
   "cell_type": "code",
   "execution_count": 10,
   "metadata": {},
   "outputs": [],
   "source": [
    "scaler = StandardScaler()"
   ]
  },
  {
   "cell_type": "code",
   "execution_count": 11,
   "metadata": {},
   "outputs": [],
   "source": [
    "df_sc = scaler.fit_transform(df.iloc[:, :7])"
   ]
  },
  {
   "cell_type": "code",
   "execution_count": 10,
   "metadata": {},
   "outputs": [
    {
     "data": {
      "text/html": [
       "<div>\n",
       "<style scoped>\n",
       "    .dataframe tbody tr th:only-of-type {\n",
       "        vertical-align: middle;\n",
       "    }\n",
       "\n",
       "    .dataframe tbody tr th {\n",
       "        vertical-align: top;\n",
       "    }\n",
       "\n",
       "    .dataframe thead th {\n",
       "        text-align: right;\n",
       "    }\n",
       "</style>\n",
       "<table border=\"1\" class=\"dataframe\">\n",
       "  <thead>\n",
       "    <tr style=\"text-align: right;\">\n",
       "      <th></th>\n",
       "      <th>passenger_count</th>\n",
       "      <th>trip_distance</th>\n",
       "      <th>PULocationID</th>\n",
       "      <th>DOLocationID</th>\n",
       "      <th>payment_type</th>\n",
       "      <th>total_amount</th>\n",
       "      <th>time_slot</th>\n",
       "      <th>tip_amount</th>\n",
       "    </tr>\n",
       "  </thead>\n",
       "  <tbody>\n",
       "    <tr>\n",
       "      <th>0</th>\n",
       "      <td>1.0</td>\n",
       "      <td>0.67</td>\n",
       "      <td>1.0</td>\n",
       "      <td>1.0</td>\n",
       "      <td>2.0</td>\n",
       "      <td>8.30</td>\n",
       "      <td>2</td>\n",
       "      <td>0.00</td>\n",
       "    </tr>\n",
       "    <tr>\n",
       "      <th>1</th>\n",
       "      <td>1.0</td>\n",
       "      <td>3.20</td>\n",
       "      <td>1.0</td>\n",
       "      <td>1.0</td>\n",
       "      <td>1.0</td>\n",
       "      <td>24.30</td>\n",
       "      <td>1</td>\n",
       "      <td>5.00</td>\n",
       "    </tr>\n",
       "    <tr>\n",
       "      <th>2</th>\n",
       "      <td>1.0</td>\n",
       "      <td>1.96</td>\n",
       "      <td>1.0</td>\n",
       "      <td>1.0</td>\n",
       "      <td>1.0</td>\n",
       "      <td>12.80</td>\n",
       "      <td>1</td>\n",
       "      <td>2.00</td>\n",
       "    </tr>\n",
       "    <tr>\n",
       "      <th>3</th>\n",
       "      <td>1.0</td>\n",
       "      <td>6.56</td>\n",
       "      <td>1.0</td>\n",
       "      <td>0.0</td>\n",
       "      <td>2.0</td>\n",
       "      <td>26.30</td>\n",
       "      <td>1</td>\n",
       "      <td>0.00</td>\n",
       "    </tr>\n",
       "    <tr>\n",
       "      <th>4</th>\n",
       "      <td>1.0</td>\n",
       "      <td>1.40</td>\n",
       "      <td>1.0</td>\n",
       "      <td>1.0</td>\n",
       "      <td>1.0</td>\n",
       "      <td>12.42</td>\n",
       "      <td>4</td>\n",
       "      <td>1.62</td>\n",
       "    </tr>\n",
       "  </tbody>\n",
       "</table>\n",
       "</div>"
      ],
      "text/plain": [
       "   passenger_count  trip_distance  PULocationID  DOLocationID  payment_type  \\\n",
       "0              1.0           0.67           1.0           1.0           2.0   \n",
       "1              1.0           3.20           1.0           1.0           1.0   \n",
       "2              1.0           1.96           1.0           1.0           1.0   \n",
       "3              1.0           6.56           1.0           0.0           2.0   \n",
       "4              1.0           1.40           1.0           1.0           1.0   \n",
       "\n",
       "   total_amount  time_slot  tip_amount  \n",
       "0          8.30          2        0.00  \n",
       "1         24.30          1        5.00  \n",
       "2         12.80          1        2.00  \n",
       "3         26.30          1        0.00  \n",
       "4         12.42          4        1.62  "
      ]
     },
     "execution_count": 10,
     "metadata": {},
     "output_type": "execute_result"
    }
   ],
   "source": [
    "df.head()"
   ]
  },
  {
   "cell_type": "code",
   "execution_count": 12,
   "metadata": {},
   "outputs": [],
   "source": [
    "lr = LinearRegression()"
   ]
  },
  {
   "cell_type": "markdown",
   "metadata": {},
   "source": [
    "#### Normalization of the features in order to have an homogeneous range."
   ]
  },
  {
   "cell_type": "code",
   "execution_count": 9,
   "metadata": {},
   "outputs": [],
   "source": [
    "passenger_sc = (df['passenger_count'] -np.mean(df['passenger_count'])) / np.std(df['passenger_count'])\n",
    "df['passenger_count'] = passenger_sc"
   ]
  },
  {
   "cell_type": "code",
   "execution_count": 10,
   "metadata": {},
   "outputs": [],
   "source": [
    "distance_sc = (df['trip_distance'] -np.mean(df['trip_distance'])) / np.std(df['trip_distance'])\n",
    "df['trip_distance'] = distance_sc"
   ]
  },
  {
   "cell_type": "code",
   "execution_count": 11,
   "metadata": {},
   "outputs": [],
   "source": [
    "total_sc = (df['total_amount'] -np.mean(df['total_amount'])) / np.std(df['total_amount'])\n",
    "df['total_amount'] = total_sc"
   ]
  },
  {
   "cell_type": "code",
   "execution_count": 12,
   "metadata": {},
   "outputs": [],
   "source": [
    "tip_sc = (df['tip_amount'] -np.mean(df['tip_amount'])) / np.std(df['tip_amount'])\n",
    "df['tip_amount'] = tip_sc"
   ]
  },
  {
   "cell_type": "code",
   "execution_count": 17,
   "metadata": {},
   "outputs": [
    {
     "data": {
      "text/html": [
       "<div>\n",
       "<style scoped>\n",
       "    .dataframe tbody tr th:only-of-type {\n",
       "        vertical-align: middle;\n",
       "    }\n",
       "\n",
       "    .dataframe tbody tr th {\n",
       "        vertical-align: top;\n",
       "    }\n",
       "\n",
       "    .dataframe thead th {\n",
       "        text-align: right;\n",
       "    }\n",
       "</style>\n",
       "<table border=\"1\" class=\"dataframe\">\n",
       "  <thead>\n",
       "    <tr style=\"text-align: right;\">\n",
       "      <th></th>\n",
       "      <th>passenger_count</th>\n",
       "      <th>trip_distance</th>\n",
       "      <th>PULocationID</th>\n",
       "      <th>DOLocationID</th>\n",
       "      <th>payment_type</th>\n",
       "      <th>total_amount</th>\n",
       "      <th>time_slot</th>\n",
       "      <th>tip_amount</th>\n",
       "    </tr>\n",
       "  </thead>\n",
       "  <tbody>\n",
       "    <tr>\n",
       "      <th>0</th>\n",
       "      <td>-0.354043</td>\n",
       "      <td>-0.548106</td>\n",
       "      <td>1.0</td>\n",
       "      <td>1.0</td>\n",
       "      <td>2.0</td>\n",
       "      <td>-0.620663</td>\n",
       "      <td>2</td>\n",
       "      <td>-0.271728</td>\n",
       "    </tr>\n",
       "    <tr>\n",
       "      <th>1</th>\n",
       "      <td>-0.354043</td>\n",
       "      <td>0.004131</td>\n",
       "      <td>1.0</td>\n",
       "      <td>1.0</td>\n",
       "      <td>1.0</td>\n",
       "      <td>0.239991</td>\n",
       "      <td>1</td>\n",
       "      <td>0.635717</td>\n",
       "    </tr>\n",
       "    <tr>\n",
       "      <th>2</th>\n",
       "      <td>-0.354043</td>\n",
       "      <td>-0.266531</td>\n",
       "      <td>1.0</td>\n",
       "      <td>1.0</td>\n",
       "      <td>1.0</td>\n",
       "      <td>-0.378604</td>\n",
       "      <td>1</td>\n",
       "      <td>0.091250</td>\n",
       "    </tr>\n",
       "    <tr>\n",
       "      <th>3</th>\n",
       "      <td>-0.354043</td>\n",
       "      <td>0.737536</td>\n",
       "      <td>1.0</td>\n",
       "      <td>0.0</td>\n",
       "      <td>2.0</td>\n",
       "      <td>0.347573</td>\n",
       "      <td>1</td>\n",
       "      <td>-0.271728</td>\n",
       "    </tr>\n",
       "    <tr>\n",
       "      <th>4</th>\n",
       "      <td>-0.354043</td>\n",
       "      <td>-0.388765</td>\n",
       "      <td>1.0</td>\n",
       "      <td>1.0</td>\n",
       "      <td>1.0</td>\n",
       "      <td>-0.399044</td>\n",
       "      <td>4</td>\n",
       "      <td>0.022284</td>\n",
       "    </tr>\n",
       "  </tbody>\n",
       "</table>\n",
       "</div>"
      ],
      "text/plain": [
       "   passenger_count  trip_distance  PULocationID  DOLocationID  payment_type  \\\n",
       "0        -0.354043      -0.548106           1.0           1.0           2.0   \n",
       "1        -0.354043       0.004131           1.0           1.0           1.0   \n",
       "2        -0.354043      -0.266531           1.0           1.0           1.0   \n",
       "3        -0.354043       0.737536           1.0           0.0           2.0   \n",
       "4        -0.354043      -0.388765           1.0           1.0           1.0   \n",
       "\n",
       "   total_amount  time_slot  tip_amount  \n",
       "0     -0.620663          2   -0.271728  \n",
       "1      0.239991          1    0.635717  \n",
       "2     -0.378604          1    0.091250  \n",
       "3      0.347573          1   -0.271728  \n",
       "4     -0.399044          4    0.022284  "
      ]
     },
     "execution_count": 17,
     "metadata": {},
     "output_type": "execute_result"
    }
   ],
   "source": [
    "df.head()"
   ]
  },
  {
   "cell_type": "markdown",
   "metadata": {},
   "source": [
    "#### Split dataset in training and test sets."
   ]
  },
  {
   "cell_type": "code",
   "execution_count": 18,
   "metadata": {},
   "outputs": [],
   "source": [
    "x_train, x_test, y_train, y_test = train_test_split(df.iloc[:, 0:7], df['tip_amount'], test_size = 0.3, random_state = 12345)"
   ]
  },
  {
   "cell_type": "code",
   "execution_count": 19,
   "metadata": {},
   "outputs": [
    {
     "data": {
      "text/plain": [
       "5992"
      ]
     },
     "execution_count": 19,
     "metadata": {},
     "output_type": "execute_result"
    }
   ],
   "source": [
    "len(x_train)"
   ]
  },
  {
   "cell_type": "code",
   "execution_count": 20,
   "metadata": {},
   "outputs": [
    {
     "data": {
      "text/plain": [
       "2569"
      ]
     },
     "execution_count": 20,
     "metadata": {},
     "output_type": "execute_result"
    }
   ],
   "source": [
    "len(x_test)"
   ]
  },
  {
   "cell_type": "code",
   "execution_count": 21,
   "metadata": {},
   "outputs": [
    {
     "data": {
      "text/plain": [
       "5992"
      ]
     },
     "execution_count": 21,
     "metadata": {},
     "output_type": "execute_result"
    }
   ],
   "source": [
    "len(y_train)"
   ]
  },
  {
   "cell_type": "code",
   "execution_count": 22,
   "metadata": {},
   "outputs": [
    {
     "data": {
      "text/plain": [
       "2569"
      ]
     },
     "execution_count": 22,
     "metadata": {},
     "output_type": "execute_result"
    }
   ],
   "source": [
    "len(y_test)"
   ]
  },
  {
   "cell_type": "code",
   "execution_count": 23,
   "metadata": {},
   "outputs": [
    {
     "data": {
      "text/plain": [
       "LinearRegression()"
      ]
     },
     "execution_count": 23,
     "metadata": {},
     "output_type": "execute_result"
    }
   ],
   "source": [
    "lr.fit(x_train, y_train)"
   ]
  },
  {
   "cell_type": "code",
   "execution_count": 24,
   "metadata": {},
   "outputs": [
    {
     "data": {
      "text/plain": [
       "array([-0.03160241, -0.08430506, -0.4726909 , ...,  0.14243297,\n",
       "       -0.48293639,  0.04908356])"
      ]
     },
     "execution_count": 24,
     "metadata": {},
     "output_type": "execute_result"
    }
   ],
   "source": [
    "pred = lr.predict(x_test)\n",
    "pred"
   ]
  },
  {
   "cell_type": "code",
   "execution_count": 25,
   "metadata": {},
   "outputs": [
    {
     "data": {
      "image/png": "[encoded data removed]",
      "text/plain": [
       "<Figure size 432x288 with 1 Axes>"
      ]
     },
     "metadata": {
      "needs_background": "light"
     },
     "output_type": "display_data"
    }
   ],
   "source": [
    "#plot relationship between true and predicted tips\n",
    "plt.scatter(y_test, pred)\n",
    "plt.xlabel('True tips')\n",
    "plt.ylabel('Predicted tips')\n",
    "plt.xlim((0, 1))\n",
    "plt.ylim((0, 1))\n",
    "plt.show()\n"
   ]
  },
  {
   "cell_type": "code",
   "execution_count": 26,
   "metadata": {},
   "outputs": [
    {
     "data": {
      "image/png": "[encoded data removed]",
      "text/plain": [
       "<Figure size 432x288 with 1 Axes>"
      ]
     },
     "metadata": {
      "needs_background": "light"
     },
     "output_type": "display_data"
    }
   ],
   "source": [
    "\n",
    "plt.plot(y_test, 'ro')\n",
    "plt.plot(pred, 'ro', color = 'blue')\n",
    "plt.show()\n"
   ]
  },
  {
   "cell_type": "code",
   "execution_count": 27,
   "metadata": {},
   "outputs": [
    {
     "data": {
      "text/html": [
       "<div>\n",
       "<style scoped>\n",
       "    .dataframe tbody tr th:only-of-type {\n",
       "        vertical-align: middle;\n",
       "    }\n",
       "\n",
       "    .dataframe tbody tr th {\n",
       "        vertical-align: top;\n",
       "    }\n",
       "\n",
       "    .dataframe thead th {\n",
       "        text-align: right;\n",
       "    }\n",
       "</style>\n",
       "<table border=\"1\" class=\"dataframe\">\n",
       "  <thead>\n",
       "    <tr style=\"text-align: right;\">\n",
       "      <th></th>\n",
       "      <th>coeff</th>\n",
       "    </tr>\n",
       "  </thead>\n",
       "  <tbody>\n",
       "    <tr>\n",
       "      <th>passenger_count</th>\n",
       "      <td>0.015200</td>\n",
       "    </tr>\n",
       "    <tr>\n",
       "      <th>trip_distance</th>\n",
       "      <td>-0.134137</td>\n",
       "    </tr>\n",
       "    <tr>\n",
       "      <th>PULocationID</th>\n",
       "      <td>0.398700</td>\n",
       "    </tr>\n",
       "    <tr>\n",
       "      <th>DOLocationID</th>\n",
       "      <td>-0.180143</td>\n",
       "    </tr>\n",
       "    <tr>\n",
       "      <th>payment_type</th>\n",
       "      <td>-0.221241</td>\n",
       "    </tr>\n",
       "    <tr>\n",
       "      <th>total_amount</th>\n",
       "      <td>0.563808</td>\n",
       "    </tr>\n",
       "    <tr>\n",
       "      <th>time_slot</th>\n",
       "      <td>-0.010841</td>\n",
       "    </tr>\n",
       "  </tbody>\n",
       "</table>\n",
       "</div>"
      ],
      "text/plain": [
       "                    coeff\n",
       "passenger_count  0.015200\n",
       "trip_distance   -0.134137\n",
       "PULocationID     0.398700\n",
       "DOLocationID    -0.180143\n",
       "payment_type    -0.221241\n",
       "total_amount     0.563808\n",
       "time_slot       -0.010841"
      ]
     },
     "execution_count": 27,
     "metadata": {},
     "output_type": "execute_result"
    }
   ],
   "source": [
    "coeff = pd.DataFrame(lr.coef_, df.columns[0:7], columns=['coeff'])\n",
    "coeff"
   ]
  },
  {
   "cell_type": "code",
   "execution_count": 28,
   "metadata": {},
   "outputs": [
    {
     "name": "stdout",
     "output_type": "stream",
     "text": [
      "MAE: 0.2639081456957234\n",
      "MSE: 0.1838804863768371\n",
      "RMSE: 0.42881288037655435\n"
     ]
    }
   ],
   "source": [
    "print('MAE:', metrics.mean_absolute_error(y_test, pred))\n",
    "print('MSE:', metrics.mean_squared_error(y_test, pred))\n",
    "print('RMSE:', np.sqrt(metrics.mean_squared_error(y_test, pred)))"
   ]
  },
  {
   "cell_type": "code",
   "execution_count": 29,
   "metadata": {},
   "outputs": [
    {
     "data": {
      "text/plain": [
       "0.19939181349692414"
      ]
     },
     "execution_count": 29,
     "metadata": {},
     "output_type": "execute_result"
    }
   ],
   "source": [
    "r2 = r2_score(y_test, pred)\n",
    "r2"
   ]
  },
  {
   "cell_type": "markdown",
   "metadata": {},
   "source": [
    "# Logistic Regression Analysis"
   ]
  },
  {
   "cell_type": "markdown",
   "metadata": {},
   "source": [
    "The feautures used to apply Logistic Regression Model are time_distance, payment_type, total_amount and trip_distance.\n",
    "\n",
    "Adapting dataset."
   ]
  },
  {
   "cell_type": "code",
   "execution_count": 15,
   "metadata": {},
   "outputs": [],
   "source": [
    "\n",
    "lr = LogisticRegression()\n",
    "\n",
    "cl = df['PULocationID'].values\n"
   ]
  },
  {
   "cell_type": "code",
   "execution_count": 26,
   "metadata": {},
   "outputs": [
    {
     "data": {
      "text/html": [
       "<div>\n",
       "<style scoped>\n",
       "    .dataframe tbody tr th:only-of-type {\n",
       "        vertical-align: middle;\n",
       "    }\n",
       "\n",
       "    .dataframe tbody tr th {\n",
       "        vertical-align: top;\n",
       "    }\n",
       "\n",
       "    .dataframe thead th {\n",
       "        text-align: right;\n",
       "    }\n",
       "</style>\n",
       "<table border=\"1\" class=\"dataframe\">\n",
       "  <thead>\n",
       "    <tr style=\"text-align: right;\">\n",
       "      <th></th>\n",
       "      <th>Unnamed: 0</th>\n",
       "      <th>tpep_pickup_datetime</th>\n",
       "      <th>tpep_dropoff_datetime</th>\n",
       "      <th>passenger_count</th>\n",
       "      <th>trip_distance</th>\n",
       "      <th>PULocationID</th>\n",
       "      <th>DOLocationID</th>\n",
       "      <th>payment_type</th>\n",
       "      <th>tip_amount</th>\n",
       "      <th>total_amount</th>\n",
       "      <th>time_distance</th>\n",
       "      <th>time_distance_bins</th>\n",
       "      <th>speed</th>\n",
       "      <th>time_hour</th>\n",
       "      <th>time_slot</th>\n",
       "    </tr>\n",
       "  </thead>\n",
       "  <tbody>\n",
       "    <tr>\n",
       "      <th>0</th>\n",
       "      <td>0</td>\n",
       "      <td>2020-05-07 10:58:49</td>\n",
       "      <td>2020-05-07 11:02:51</td>\n",
       "      <td>1.0</td>\n",
       "      <td>0.67</td>\n",
       "      <td>1.0</td>\n",
       "      <td>1.0</td>\n",
       "      <td>2.0</td>\n",
       "      <td>0.00</td>\n",
       "      <td>8.30</td>\n",
       "      <td>242</td>\n",
       "      <td>1</td>\n",
       "      <td>0.002769</td>\n",
       "      <td>10</td>\n",
       "      <td>2</td>\n",
       "    </tr>\n",
       "    <tr>\n",
       "      <th>1</th>\n",
       "      <td>1</td>\n",
       "      <td>2020-05-22 09:54:47</td>\n",
       "      <td>2020-05-22 10:16:00</td>\n",
       "      <td>1.0</td>\n",
       "      <td>3.20</td>\n",
       "      <td>1.0</td>\n",
       "      <td>1.0</td>\n",
       "      <td>1.0</td>\n",
       "      <td>5.00</td>\n",
       "      <td>24.30</td>\n",
       "      <td>1273</td>\n",
       "      <td>4</td>\n",
       "      <td>0.002514</td>\n",
       "      <td>9</td>\n",
       "      <td>1</td>\n",
       "    </tr>\n",
       "    <tr>\n",
       "      <th>2</th>\n",
       "      <td>2</td>\n",
       "      <td>2020-05-11 08:49:28</td>\n",
       "      <td>2020-05-11 08:54:37</td>\n",
       "      <td>1.0</td>\n",
       "      <td>1.96</td>\n",
       "      <td>1.0</td>\n",
       "      <td>1.0</td>\n",
       "      <td>1.0</td>\n",
       "      <td>2.00</td>\n",
       "      <td>12.80</td>\n",
       "      <td>309</td>\n",
       "      <td>2</td>\n",
       "      <td>0.006343</td>\n",
       "      <td>8</td>\n",
       "      <td>1</td>\n",
       "    </tr>\n",
       "    <tr>\n",
       "      <th>3</th>\n",
       "      <td>3</td>\n",
       "      <td>2020-05-09 07:40:32</td>\n",
       "      <td>2020-05-09 08:05:43</td>\n",
       "      <td>1.0</td>\n",
       "      <td>6.56</td>\n",
       "      <td>1.0</td>\n",
       "      <td>0.0</td>\n",
       "      <td>2.0</td>\n",
       "      <td>0.00</td>\n",
       "      <td>26.30</td>\n",
       "      <td>1511</td>\n",
       "      <td>4</td>\n",
       "      <td>0.004341</td>\n",
       "      <td>7</td>\n",
       "      <td>1</td>\n",
       "    </tr>\n",
       "    <tr>\n",
       "      <th>4</th>\n",
       "      <td>4</td>\n",
       "      <td>2020-05-15 23:38:35</td>\n",
       "      <td>2020-05-15 23:44:16</td>\n",
       "      <td>1.0</td>\n",
       "      <td>1.40</td>\n",
       "      <td>1.0</td>\n",
       "      <td>1.0</td>\n",
       "      <td>1.0</td>\n",
       "      <td>1.62</td>\n",
       "      <td>12.42</td>\n",
       "      <td>341</td>\n",
       "      <td>2</td>\n",
       "      <td>0.004106</td>\n",
       "      <td>23</td>\n",
       "      <td>4</td>\n",
       "    </tr>\n",
       "  </tbody>\n",
       "</table>\n",
       "</div>"
      ],
      "text/plain": [
       "   Unnamed: 0 tpep_pickup_datetime tpep_dropoff_datetime  passenger_count  \\\n",
       "0           0  2020-05-07 10:58:49   2020-05-07 11:02:51              1.0   \n",
       "1           1  2020-05-22 09:54:47   2020-05-22 10:16:00              1.0   \n",
       "2           2  2020-05-11 08:49:28   2020-05-11 08:54:37              1.0   \n",
       "3           3  2020-05-09 07:40:32   2020-05-09 08:05:43              1.0   \n",
       "4           4  2020-05-15 23:38:35   2020-05-15 23:44:16              1.0   \n",
       "\n",
       "   trip_distance  PULocationID  DOLocationID  payment_type  tip_amount  \\\n",
       "0           0.67           1.0           1.0           2.0        0.00   \n",
       "1           3.20           1.0           1.0           1.0        5.00   \n",
       "2           1.96           1.0           1.0           1.0        2.00   \n",
       "3           6.56           1.0           0.0           2.0        0.00   \n",
       "4           1.40           1.0           1.0           1.0        1.62   \n",
       "\n",
       "   total_amount  time_distance  time_distance_bins     speed  time_hour  \\\n",
       "0          8.30            242                   1  0.002769         10   \n",
       "1         24.30           1273                   4  0.002514          9   \n",
       "2         12.80            309                   2  0.006343          8   \n",
       "3         26.30           1511                   4  0.004341          7   \n",
       "4         12.42            341                   2  0.004106         23   \n",
       "\n",
       "   time_slot  \n",
       "0          2  \n",
       "1          1  \n",
       "2          1  \n",
       "3          1  \n",
       "4          4  "
      ]
     },
     "execution_count": 26,
     "metadata": {},
     "output_type": "execute_result"
    }
   ],
   "source": [
    "df1.head()"
   ]
  },
  {
   "cell_type": "code",
   "execution_count": 13,
   "metadata": {},
   "outputs": [],
   "source": [
    "columns = ['time_distance', 'payment_type', 'total_amount', 'trip_distance']\n",
    "df2 = df1[columns]\n",
    "time_distance_sc = (df1['time_distance'] -np.mean(df1['time_distance'])) / np.std(df1['time_distance'])\n",
    "df2['trip_distance'] = distance_sc\n",
    "df2['total_amount'] = total_sc\n",
    "df2['time_distance'] = time_distance_sc"
   ]
  },
  {
   "cell_type": "code",
   "execution_count": 28,
   "metadata": {},
   "outputs": [
    {
     "data": {
      "text/html": [
       "<div>\n",
       "<style scoped>\n",
       "    .dataframe tbody tr th:only-of-type {\n",
       "        vertical-align: middle;\n",
       "    }\n",
       "\n",
       "    .dataframe tbody tr th {\n",
       "        vertical-align: top;\n",
       "    }\n",
       "\n",
       "    .dataframe thead th {\n",
       "        text-align: right;\n",
       "    }\n",
       "</style>\n",
       "<table border=\"1\" class=\"dataframe\">\n",
       "  <thead>\n",
       "    <tr style=\"text-align: right;\">\n",
       "      <th></th>\n",
       "      <th>time_distance</th>\n",
       "      <th>payment_type</th>\n",
       "      <th>total_amount</th>\n",
       "      <th>trip_distance</th>\n",
       "    </tr>\n",
       "  </thead>\n",
       "  <tbody>\n",
       "    <tr>\n",
       "      <th>0</th>\n",
       "      <td>242</td>\n",
       "      <td>2.0</td>\n",
       "      <td>8.30</td>\n",
       "      <td>0.67</td>\n",
       "    </tr>\n",
       "    <tr>\n",
       "      <th>1</th>\n",
       "      <td>1273</td>\n",
       "      <td>1.0</td>\n",
       "      <td>24.30</td>\n",
       "      <td>3.20</td>\n",
       "    </tr>\n",
       "    <tr>\n",
       "      <th>2</th>\n",
       "      <td>309</td>\n",
       "      <td>1.0</td>\n",
       "      <td>12.80</td>\n",
       "      <td>1.96</td>\n",
       "    </tr>\n",
       "    <tr>\n",
       "      <th>3</th>\n",
       "      <td>1511</td>\n",
       "      <td>2.0</td>\n",
       "      <td>26.30</td>\n",
       "      <td>6.56</td>\n",
       "    </tr>\n",
       "    <tr>\n",
       "      <th>4</th>\n",
       "      <td>341</td>\n",
       "      <td>1.0</td>\n",
       "      <td>12.42</td>\n",
       "      <td>1.40</td>\n",
       "    </tr>\n",
       "  </tbody>\n",
       "</table>\n",
       "</div>"
      ],
      "text/plain": [
       "   time_distance  payment_type  total_amount  trip_distance\n",
       "0            242           2.0          8.30           0.67\n",
       "1           1273           1.0         24.30           3.20\n",
       "2            309           1.0         12.80           1.96\n",
       "3           1511           2.0         26.30           6.56\n",
       "4            341           1.0         12.42           1.40"
      ]
     },
     "execution_count": 28,
     "metadata": {},
     "output_type": "execute_result"
    }
   ],
   "source": [
    "df3= df1[columns]\n",
    "df3.head()"
   ]
  },
  {
   "cell_type": "code",
   "execution_count": 29,
   "metadata": {},
   "outputs": [
    {
     "data": {
      "text/html": [
       "<div>\n",
       "<style scoped>\n",
       "    .dataframe tbody tr th:only-of-type {\n",
       "        vertical-align: middle;\n",
       "    }\n",
       "\n",
       "    .dataframe tbody tr th {\n",
       "        vertical-align: top;\n",
       "    }\n",
       "\n",
       "    .dataframe thead th {\n",
       "        text-align: right;\n",
       "    }\n",
       "</style>\n",
       "<table border=\"1\" class=\"dataframe\">\n",
       "  <thead>\n",
       "    <tr style=\"text-align: right;\">\n",
       "      <th></th>\n",
       "      <th>time_distance</th>\n",
       "      <th>payment_type</th>\n",
       "      <th>total_amount</th>\n",
       "      <th>trip_distance</th>\n",
       "    </tr>\n",
       "  </thead>\n",
       "  <tbody>\n",
       "    <tr>\n",
       "      <th>0</th>\n",
       "      <td>-0.208417</td>\n",
       "      <td>2.0</td>\n",
       "      <td>-0.620663</td>\n",
       "      <td>-0.548106</td>\n",
       "    </tr>\n",
       "    <tr>\n",
       "      <th>1</th>\n",
       "      <td>0.071042</td>\n",
       "      <td>1.0</td>\n",
       "      <td>0.239991</td>\n",
       "      <td>0.004131</td>\n",
       "    </tr>\n",
       "    <tr>\n",
       "      <th>2</th>\n",
       "      <td>-0.190257</td>\n",
       "      <td>1.0</td>\n",
       "      <td>-0.378604</td>\n",
       "      <td>-0.266531</td>\n",
       "    </tr>\n",
       "    <tr>\n",
       "      <th>3</th>\n",
       "      <td>0.135553</td>\n",
       "      <td>2.0</td>\n",
       "      <td>0.347573</td>\n",
       "      <td>0.737536</td>\n",
       "    </tr>\n",
       "    <tr>\n",
       "      <th>4</th>\n",
       "      <td>-0.181583</td>\n",
       "      <td>1.0</td>\n",
       "      <td>-0.399044</td>\n",
       "      <td>-0.388765</td>\n",
       "    </tr>\n",
       "  </tbody>\n",
       "</table>\n",
       "</div>"
      ],
      "text/plain": [
       "   time_distance  payment_type  total_amount  trip_distance\n",
       "0      -0.208417           2.0     -0.620663      -0.548106\n",
       "1       0.071042           1.0      0.239991       0.004131\n",
       "2      -0.190257           1.0     -0.378604      -0.266531\n",
       "3       0.135553           2.0      0.347573       0.737536\n",
       "4      -0.181583           1.0     -0.399044      -0.388765"
      ]
     },
     "execution_count": 29,
     "metadata": {},
     "output_type": "execute_result"
    }
   ],
   "source": [
    "df2.head()"
   ]
  },
  {
   "cell_type": "markdown",
   "metadata": {},
   "source": [
    "#### split features in train and test sets"
   ]
  },
  {
   "cell_type": "code",
   "execution_count": 16,
   "metadata": {},
   "outputs": [],
   "source": [
    "x_train, x_test, y_train, y_test = train_test_split(df2, cl, test_size = 0.3, random_state = 12345)"
   ]
  },
  {
   "cell_type": "code",
   "execution_count": 31,
   "metadata": {},
   "outputs": [],
   "source": [
    "#We use the LogisticRegression () code to create the logistic regression model.\n",
    "#we fit the model to the training set using fit (X_train, y_train) and predict on the test set using predict (X_test).\n",
    "\n",
    "lr.fit(x_train,y_train)\n",
    "y_pred=lr.predict(x_test)"
   ]
  },
  {
   "cell_type": "code",
   "execution_count": 32,
   "metadata": {},
   "outputs": [
    {
     "name": "stdout",
     "output_type": "stream",
     "text": [
      "[[ 667  613]\n",
      " [ 237 1052]]\n",
      "              precision    recall  f1-score   support\n",
      "\n",
      "         0.0       0.74      0.52      0.61      1280\n",
      "         1.0       0.63      0.82      0.71      1289\n",
      "\n",
      "    accuracy                           0.67      2569\n",
      "   macro avg       0.68      0.67      0.66      2569\n",
      "weighted avg       0.68      0.67      0.66      2569\n",
      "\n"
     ]
    }
   ],
   "source": [
    "#To evaluate performance we use the Confusion Matrix.\n",
    "#The foundation of this matrix is the number of correct (true positive) and incorrect (false positive) predictions \n",
    "#summarized in terms of class.\n",
    "from sklearn.metrics import confusion_matrix, classification_report\n",
    "print(confusion_matrix(y_test, y_pred))\n",
    "print(classification_report(y_test, y_pred))"
   ]
  },
  {
   "cell_type": "markdown",
   "metadata": {},
   "source": [
    "Diagonal values represent accurate predictions, while non-diagonal elements are inaccurate predictions. This means that **667** and **1052** are *_correct predictions_* and **613** and **237** are *_incorrect predictions_*.\n",
    "\n",
    "- 1052 are the true positives: the number of times the model predicted 1 and the label was really 1\n",
    "- 237 are the false positives: the number of times the model predicted 1 and the label was 0\n",
    "- 613 are the false negatives: the number of times the model predicted 0 and the label was 1    \n",
    "- 667 are the true negatives: the number of times the model predicted 0 and the label was really 0\n",
    "    \n",
    "**Precision** indicates how accurate the model is.\n",
    "\n",
    "**Recall** is the ability of the classifier to find all positive samples.\n",
    "\n",
    "**F1-score** can be interpreted as a weighted harmonic average of precision and recall\n",
    "\n",
    "**Support** is the number of occurrences of each class in Y_test."
   ]
  },
  {
   "cell_type": "code",
   "execution_count": 33,
   "metadata": {},
   "outputs": [
    {
     "data": {
      "text/plain": [
       "0.6691319579602958"
      ]
     },
     "execution_count": 33,
     "metadata": {},
     "output_type": "execute_result"
    }
   ],
   "source": [
    "from sklearn.metrics import accuracy_score\n",
    "accuracy_score(y_test, y_pred)"
   ]
  },
  {
   "cell_type": "code",
   "execution_count": 34,
   "metadata": {},
   "outputs": [
    {
     "data": {
      "image/png": "[encoded data removed]",
      "text/plain": [
       "<Figure size 432x288 with 2 Axes>"
      ]
     },
     "metadata": {
      "needs_background": "light"
     },
     "output_type": "display_data"
    }
   ],
   "source": [
    "# plot heatmap of confusion matrix\n",
    "sns.heatmap(confusion_matrix(y_test, y_pred), square = True, annot=True, fmt='g')\n",
    "plt.show()"
   ]
  },
  {
   "cell_type": "code",
   "execution_count": 35,
   "metadata": {},
   "outputs": [
    {
     "data": {
      "image/png": "[encoded data removed]",
      "text/plain": [
       "<Figure size 432x288 with 1 Axes>"
      ]
     },
     "metadata": {
      "needs_background": "light"
     },
     "output_type": "display_data"
    }
   ],
   "source": [
    "# plot ROC curve\n",
    "from sklearn.metrics import roc_auc_score\n",
    "from sklearn.metrics import roc_curve\n",
    "logit_roc_auc = roc_auc_score(y_test, y_pred)\n",
    "fpr, tpr, thresholds = roc_curve(y_test, lr.predict_proba(x_test)[:,1])\n",
    "plt.figure()\n",
    "plt.plot(fpr, tpr, label='Logistic Regression (area = %0.2f)' % logit_roc_auc)\n",
    "plt.plot([0, 1], [0, 1],'r--')\n",
    "plt.xlim([0.0, 1.0])\n",
    "plt.ylim([0.0, 1.05])\n",
    "plt.xlabel('False Positive Rate')\n",
    "plt.ylabel('True Positive Rate')\n",
    "#plt.title('Receiver operating characteristic')\n",
    "plt.legend(loc=\"lower right\")\n",
    "plt.savefig('Log_ROC')\n",
    "plt.show()"
   ]
  },
  {
   "cell_type": "code",
   "execution_count": 37,
   "metadata": {},
   "outputs": [],
   "source": [
    "from sklearn.metrics import precision_score, recall_score, f1_score"
   ]
  },
  {
   "cell_type": "code",
   "execution_count": 51,
   "metadata": {},
   "outputs": [
    {
     "name": "stdout",
     "output_type": "stream",
     "text": [
      "Accuracy Score : 0.6683534449202024\n",
      "Precision Score : 0.6315472606863335\n",
      "Recall Score : 0.8138091543832429\n",
      "F1 Score : 0.7111864406779661\n"
     ]
    },
    {
     "data": {
      "text/plain": [
       "array([[ 668,  612],\n",
       "       [ 240, 1049]], dtype=int64)"
      ]
     },
     "execution_count": 51,
     "metadata": {},
     "output_type": "execute_result"
    }
   ],
   "source": [
    "\n",
    "#Grid Search\n",
    "from sklearn.model_selection import GridSearchCV\n",
    "clf = LogisticRegression()\n",
    "grid_values = {'penalty': ['l1', 'l2'],'C':np.logspace(-3,3,7)}\n",
    "grid_clf_acc = GridSearchCV(clf, param_grid = grid_values)\n",
    "grid_clf_acc.fit(x_train, y_train)\n",
    "\n",
    "#Predict values based on new parameters\n",
    "y_pred_acc = grid_clf_acc.predict(x_test)\n",
    "\n",
    "# New Model Evaluation metrics \n",
    "print('Accuracy Score : ' + str(accuracy_score(y_test,y_pred_acc)))\n",
    "print('Precision Score : ' + str(precision_score(y_test,y_pred_acc)))\n",
    "print('Recall Score : ' + str(recall_score(y_test,y_pred_acc)))\n",
    "print('F1 Score : ' + str(f1_score(y_test,y_pred_acc)))\n",
    "\n",
    "#Logistic Regression (Grid Search) Confusion matrix\n",
    "confusion_matrix(y_test,y_pred_acc)\n"
   ]
  },
  {
   "cell_type": "code",
   "execution_count": 52,
   "metadata": {},
   "outputs": [
    {
     "data": {
      "image/png": "[encoded data removed]",
      "text/plain": [
       "<Figure size 432x288 with 2 Axes>"
      ]
     },
     "metadata": {
      "needs_background": "light"
     },
     "output_type": "display_data"
    }
   ],
   "source": [
    "sns.heatmap(confusion_matrix(y_test, y_pred_acc), square = True, annot=True, fmt='g')\n",
    "plt.show()"
   ]
  },
  {
   "cell_type": "code",
   "execution_count": 57,
   "metadata": {},
   "outputs": [
    {
     "name": "stdout",
     "output_type": "stream",
     "text": [
      "tuned hpyerparameters :(best parameters)  {'C': 0.1, 'penalty': 'l2'}\n"
     ]
    }
   ],
   "source": [
    "print(\"tuned hpyerparameters :(best parameters) \",grid_clf_acc.best_params_)"
   ]
  },
  {
   "cell_type": "code",
   "execution_count": 19,
   "metadata": {},
   "outputs": [
    {
     "data": {
      "text/plain": [
       "array([0.67250438, 0.66880841, 0.6828271 , 0.67464953, 0.69275701])"
      ]
     },
     "execution_count": 19,
     "metadata": {},
     "output_type": "execute_result"
    }
   ],
   "source": [
    "from sklearn.model_selection import cross_val_score\n",
    "\n",
    "cross_val_score(lr, df2, cl, cv=5)\n"
   ]
  },
  {
   "cell_type": "code",
   "execution_count": null,
   "metadata": {},
   "outputs": [],
   "source": []
  }
 ],
 "metadata": {
  "kernelspec": {
   "display_name": "Python 3",
   "language": "python",
   "name": "python3"
  },
  "language_info": {
   "codemirror_mode": {
    "name": "ipython",
    "version": 3
   },
   "file_extension": ".py",
   "mimetype": "text/x-python",
   "name": "python",
   "nbconvert_exporter": "python",
   "pygments_lexer": "ipython3",
   "version": "3.8.3"
  }
 },
 "nbformat": 4,
 "nbformat_minor": 4
}
